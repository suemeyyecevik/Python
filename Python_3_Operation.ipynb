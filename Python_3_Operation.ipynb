{
  "nbformat": 4,
  "nbformat_minor": 0,
  "metadata": {
    "colab": {
      "provenance": []
    },
    "kernelspec": {
      "name": "python3",
      "display_name": "Python 3"
    },
    "language_info": {
      "name": "python"
    }
  },
  "cells": [
    {
      "cell_type": "markdown",
      "source": [
        "\n",
        "**Python Operatörler**\n",
        "\n",
        "Pythonda operatörleri, aritmetik operatörler, atama operatörleri, karşılaştırma operatörleri ve mantıksal operatörler şeklinde gruplayabiliriz.\n",
        "\n",
        "\n",
        "**Aritmetik Operatörler**\n",
        "Pythonda aritmetik operatörleri matematiksel işlemler için kullanırız.\n",
        "\n",
        "\n",
        "     \tx = 20 y = 5\tsonuc\n",
        "+\tToplama\n",
        "sonuc = x + y\n",
        "\n",
        "25\n",
        "-\tÇıkarma\n",
        "sonuc = x - y\n",
        "\n",
        "15\n",
        "*\tÇarpma\n",
        "sonuc = x * y\n",
        "\n",
        "100\n",
        "/\tBölme\t \tsonuc = x / y\t4.0\n",
        "\n",
        "%\tMod Alma\t \tsonuc = y % x\t0\n",
        "\n",
        "//\tTam Bölme\t \tsonuc = x // y\t4\n",
        "\n",
        "**\tÜs alma\t \tsonuc = 2 ** 3\t8\n"
      ],
      "metadata": {
        "id": "-vvVePcAgRVJ"
      }
    },
    {
      "cell_type": "code",
      "source": [
        "100/25    #Normal bölme işlemi kesirli oluyor."
      ],
      "metadata": {
        "colab": {
          "base_uri": "https://localhost:8080/"
        },
        "id": "x1rVoeTFgkvI",
        "outputId": "b4aced43-27c9-4327-bbf4-51072bec1723"
      },
      "execution_count": null,
      "outputs": [
        {
          "output_type": "execute_result",
          "data": {
            "text/plain": [
              "4.0"
            ]
          },
          "metadata": {},
          "execution_count": 1
        }
      ]
    },
    {
      "cell_type": "code",
      "source": [
        "type (100/25)     #Type ını (tipini) öğrenme."
      ],
      "metadata": {
        "colab": {
          "base_uri": "https://localhost:8080/"
        },
        "id": "aknV__oKhq0c",
        "outputId": "ed263847-8d16-44c1-db97-2ab773361fe1"
      },
      "execution_count": null,
      "outputs": [
        {
          "output_type": "execute_result",
          "data": {
            "text/plain": [
              "float"
            ]
          },
          "metadata": {},
          "execution_count": 3
        }
      ]
    },
    {
      "cell_type": "code",
      "source": [
        "100//25     #Tam bölme işlemi."
      ],
      "metadata": {
        "colab": {
          "base_uri": "https://localhost:8080/"
        },
        "id": "tNzB7ow1iLms",
        "outputId": "885c35aa-2724-461f-dcba-8303998e5531"
      },
      "execution_count": null,
      "outputs": [
        {
          "output_type": "execute_result",
          "data": {
            "text/plain": [
              "4"
            ]
          },
          "metadata": {},
          "execution_count": 4
        }
      ]
    },
    {
      "cell_type": "code",
      "source": [
        "type (100//25)      #Type ını öğrenme."
      ],
      "metadata": {
        "colab": {
          "base_uri": "https://localhost:8080/"
        },
        "id": "989N1KiTiYFM",
        "outputId": "a00e4555-648d-43e0-b3b0-1c99e647f92b"
      },
      "execution_count": null,
      "outputs": [
        {
          "output_type": "execute_result",
          "data": {
            "text/plain": [
              "int"
            ]
          },
          "metadata": {},
          "execution_count": 5
        }
      ]
    },
    {
      "cell_type": "code",
      "source": [
        "100%25    #Modus alma işlemi.\n",
        "          #İşlemin kalanını verir."
      ],
      "metadata": {
        "colab": {
          "base_uri": "https://localhost:8080/"
        },
        "id": "OZbL-F6UiiDJ",
        "outputId": "4af79a4c-b510-47f0-fa07-ad97f7dc25d6"
      },
      "execution_count": null,
      "outputs": [
        {
          "output_type": "execute_result",
          "data": {
            "text/plain": [
              "0"
            ]
          },
          "metadata": {},
          "execution_count": 6
        }
      ]
    },
    {
      "cell_type": "code",
      "source": [
        "type (100%25) #Type ını öğrenme."
      ],
      "metadata": {
        "colab": {
          "base_uri": "https://localhost:8080/"
        },
        "id": "bTvrpGn4iu0W",
        "outputId": "d238a34e-6da4-49e8-a3e6-17aed6e14ec4"
      },
      "execution_count": null,
      "outputs": [
        {
          "output_type": "execute_result",
          "data": {
            "text/plain": [
              "int"
            ]
          },
          "metadata": {},
          "execution_count": 7
        }
      ]
    },
    {
      "cell_type": "code",
      "source": [
        "100 ** 25   #Üs alma işlemi.(POW deyimi)"
      ],
      "metadata": {
        "colab": {
          "base_uri": "https://localhost:8080/"
        },
        "id": "FU8aMGFPi2BS",
        "outputId": "b8b44d3b-ee65-438c-e6a6-bb76f046e9a9"
      },
      "execution_count": null,
      "outputs": [
        {
          "output_type": "execute_result",
          "data": {
            "text/plain": [
              "100000000000000000000000000000000000000000000000000"
            ]
          },
          "metadata": {},
          "execution_count": 8
        }
      ]
    },
    {
      "cell_type": "code",
      "source": [
        "pow (100,4)"
      ],
      "metadata": {
        "colab": {
          "base_uri": "https://localhost:8080/"
        },
        "id": "iEuSfwWpjGF4",
        "outputId": "102a46f0-b850-409f-b378-a7a959270ac2"
      },
      "execution_count": null,
      "outputs": [
        {
          "output_type": "execute_result",
          "data": {
            "text/plain": [
              "100000000"
            ]
          },
          "metadata": {},
          "execution_count": 9
        }
      ]
    },
    {
      "cell_type": "code",
      "source": [
        "2 ** 4  #Üs alma işlemi."
      ],
      "metadata": {
        "colab": {
          "base_uri": "https://localhost:8080/"
        },
        "id": "k798-o5GjTLO",
        "outputId": "45b0c579-e7bf-4f60-9665-d1d4f2e60365"
      },
      "execution_count": null,
      "outputs": [
        {
          "output_type": "execute_result",
          "data": {
            "text/plain": [
              "16"
            ]
          },
          "metadata": {},
          "execution_count": 10
        }
      ]
    },
    {
      "cell_type": "code",
      "source": [
        " # What is the output ?\n",
        " # Çıktısı nedir ?\n",
        "print (10 - 7)\n",
        "print (5 + 11.0)\n",
        "print ('17- 4')\n",
        "print ('5'+ 5)   # Bu kısım bize TYPE ERROR verir."
      ],
      "metadata": {
        "colab": {
          "base_uri": "https://localhost:8080/",
          "height": 228
        },
        "id": "8kSZJw-njbC6",
        "outputId": "d74654cc-0d6b-4ac6-efe8-a07ce9d3c904"
      },
      "execution_count": null,
      "outputs": [
        {
          "output_type": "stream",
          "name": "stdout",
          "text": [
            "3\n",
            "16.0\n",
            "17- 4\n"
          ]
        },
        {
          "output_type": "error",
          "ename": "TypeError",
          "evalue": "can only concatenate str (not \"int\") to str",
          "traceback": [
            "\u001b[0;31m---------------------------------------------------------------------------\u001b[0m",
            "\u001b[0;31mTypeError\u001b[0m                                 Traceback (most recent call last)",
            "\u001b[0;32m<ipython-input-11-edc16dc3360a>\u001b[0m in \u001b[0;36m<cell line: 4>\u001b[0;34m()\u001b[0m\n\u001b[1;32m      2\u001b[0m \u001b[0mprint\u001b[0m \u001b[0;34m(\u001b[0m\u001b[0;36m5\u001b[0m \u001b[0;34m+\u001b[0m \u001b[0;36m11.0\u001b[0m\u001b[0;34m)\u001b[0m\u001b[0;34m\u001b[0m\u001b[0;34m\u001b[0m\u001b[0m\n\u001b[1;32m      3\u001b[0m \u001b[0mprint\u001b[0m \u001b[0;34m(\u001b[0m\u001b[0;34m'17- 4'\u001b[0m\u001b[0;34m)\u001b[0m\u001b[0;34m\u001b[0m\u001b[0;34m\u001b[0m\u001b[0m\n\u001b[0;32m----> 4\u001b[0;31m \u001b[0mprint\u001b[0m \u001b[0;34m(\u001b[0m\u001b[0;34m'5'\u001b[0m\u001b[0;34m+\u001b[0m \u001b[0;36m5\u001b[0m\u001b[0;34m)\u001b[0m\u001b[0;34m\u001b[0m\u001b[0;34m\u001b[0m\u001b[0m\n\u001b[0m",
            "\u001b[0;31mTypeError\u001b[0m: can only concatenate str (not \"int\") to str"
          ]
        }
      ]
    },
    {
      "cell_type": "code",
      "source": [
        "# What is the output ?\n",
        "# Çıktısı nedir ?\n",
        "\n",
        "num1,num2 = 85,55\n",
        "num3= num1-num2\n",
        "print (num3)"
      ],
      "metadata": {
        "colab": {
          "base_uri": "https://localhost:8080/"
        },
        "id": "ZpLggm4LkwAb",
        "outputId": "91daa6a7-d6cb-4948-fdfe-1728b0b00cc8"
      },
      "execution_count": null,
      "outputs": [
        {
          "output_type": "stream",
          "name": "stdout",
          "text": [
            "30\n"
          ]
        }
      ]
    },
    {
      "cell_type": "code",
      "source": [
        "#Bir dairenin alanını hesaplama.\n",
        "r=5     #Yarıçap\n",
        "pi=3.14\n",
        "area=pi * r**2\n",
        "print ('Daire alanı...', area)"
      ],
      "metadata": {
        "colab": {
          "base_uri": "https://localhost:8080/"
        },
        "id": "9mVTjNHSl3Md",
        "outputId": "a3d28251-7aa0-432c-bdc5-f40b178d1792"
      },
      "execution_count": null,
      "outputs": [
        {
          "output_type": "stream",
          "name": "stdout",
          "text": [
            "Daire alanı... 78.5\n"
          ]
        }
      ]
    },
    {
      "cell_type": "code",
      "source": [
        "# What is the output ?\n",
        "# Çıktısı nedir ?\n",
        "\n",
        "print(11 % 2)\n",
        "print((4 * 5) / 2)"
      ],
      "metadata": {
        "colab": {
          "base_uri": "https://localhost:8080/"
        },
        "id": "IaCeu78ty9G4",
        "outputId": "93cc1073-cc07-43d6-c4ee-6215c9f9c197"
      },
      "execution_count": null,
      "outputs": [
        {
          "output_type": "stream",
          "name": "stdout",
          "text": [
            "1\n",
            "10.0\n"
          ]
        }
      ]
    },
    {
      "cell_type": "code",
      "source": [
        "type (11 % 2) #Type ını öğrenme"
      ],
      "metadata": {
        "colab": {
          "base_uri": "https://localhost:8080/"
        },
        "id": "SoGjYDe70VLW",
        "outputId": "45171a50-62ee-4b56-859c-ca45b16b3653"
      },
      "execution_count": null,
      "outputs": [
        {
          "output_type": "execute_result",
          "data": {
            "text/plain": [
              "int"
            ]
          },
          "metadata": {},
          "execution_count": 22
        }
      ]
    },
    {
      "cell_type": "code",
      "source": [
        "# What is the output ?\n",
        "# Çıktısı nedir ?\n",
        "\n",
        "print(2 ** 3)\n",
        "print(3 ** 2)\n",
        "a= 2\n",
        "b= 8\n",
        "print ((a * b) ** 0.5)"
      ],
      "metadata": {
        "colab": {
          "base_uri": "https://localhost:8080/"
        },
        "id": "jV4YXI5n0kn7",
        "outputId": "f7838e2b-b962-4dac-86d5-26afd61142c2"
      },
      "execution_count": null,
      "outputs": [
        {
          "output_type": "stream",
          "name": "stdout",
          "text": [
            "8\n",
            "9\n",
            "4.0\n"
          ]
        }
      ]
    },
    {
      "cell_type": "code",
      "source": [
        "#pow ile üst alma.\n",
        "print (pow(2,3))\n",
        "print (pow(3,2))\n",
        "a= 2\n",
        "b= 8\n",
        "print (pow (a * b,0.5))"
      ],
      "metadata": {
        "colab": {
          "base_uri": "https://localhost:8080/"
        },
        "id": "VJU6hox17pbP",
        "outputId": "54391d76-16ae-4eec-d2f2-5317bc46d014"
      },
      "execution_count": null,
      "outputs": [
        {
          "output_type": "stream",
          "name": "stdout",
          "text": [
            "8\n",
            "9\n",
            "4.0\n"
          ]
        }
      ]
    },
    {
      "cell_type": "code",
      "source": [
        "#Tüm aritmetiksel operatörler '=' atama operatörü ile birleştirilebilir.\n",
        "\n",
        "x= 5\n",
        "y= 4\n",
        "x += 3  # x = x + 3 = 8\n",
        "y += x  # y = y + x = 12\n",
        "print (x,y)"
      ],
      "metadata": {
        "colab": {
          "base_uri": "https://localhost:8080/"
        },
        "id": "jxuBaU43CrWH",
        "outputId": "51b5c474-52c4-4207-de05-2b36104dbfc1"
      },
      "execution_count": null,
      "outputs": [
        {
          "output_type": "stream",
          "name": "stdout",
          "text": [
            "8 12\n"
          ]
        }
      ]
    },
    {
      "cell_type": "markdown",
      "source": [
        "\n",
        "**Python'da İşlem Önceliği Sırası:**\n",
        "\n",
        "1.Parantezler ()\n",
        "\n",
        "2.Üs alma **\n",
        "\n",
        "3.İşaret (artı/eksi)\n",
        "\n",
        "4.Çarpma, bölme, mod, tamsayı bölmesi *, /, %, //\n",
        "\n",
        "5.Toplama ve çıkarma +, -\n",
        "\n",
        "6.Karşılaştırma >, <, >=, <=\n",
        "\n",
        "7.Mantıksal NOT not\n",
        "\n",
        "8.Mantıksal AND and\n",
        "\n",
        "9.Mantıksal OR or\n",
        "\n",
        "10.Atama =, +=, -=, vb.\n"
      ],
      "metadata": {
        "id": "APhBL-rUNjWx"
      }
    },
    {
      "cell_type": "code",
      "source": [
        "#İşlem önceliği parantez daha önceliklidir.\n",
        "a= (1+3) ** (2**(1*2/2)/2)\n",
        "print (a)"
      ],
      "metadata": {
        "colab": {
          "base_uri": "https://localhost:8080/"
        },
        "id": "MvKY-BuLGOzi",
        "outputId": "8d6e0f84-6e38-4ed8-c7c0-a15775365700"
      },
      "execution_count": null,
      "outputs": [
        {
          "output_type": "stream",
          "name": "stdout",
          "text": [
            "4.0\n"
          ]
        }
      ]
    },
    {
      "cell_type": "code",
      "source": [
        "#Bir üçgenin hipotenüsünü hesaplayalım.\n",
        "#a^3 + b^4 = c^2\n",
        "a = 3\n",
        "b = 4\n",
        "c = (a**2 + b**2)**0.5\n",
        "print ('Hipotenus..:',c)"
      ],
      "metadata": {
        "id": "9dRx-WAWNZOy",
        "colab": {
          "base_uri": "https://localhost:8080/"
        },
        "outputId": "5239801b-7554-4e3a-b074-967e74f50ead"
      },
      "execution_count": null,
      "outputs": [
        {
          "output_type": "stream",
          "name": "stdout",
          "text": [
            "Hipotenus..: 5.0\n"
          ]
        }
      ]
    },
    {
      "cell_type": "markdown",
      "source": [
        "#PRİNT DEYİMİ"
      ],
      "metadata": {
        "id": "2bmTr_5vCL_j"
      }
    },
    {
      "cell_type": "code",
      "source": [
        "#help\n",
        "help(print)"
      ],
      "metadata": {
        "colab": {
          "base_uri": "https://localhost:8080/"
        },
        "id": "xfKLPs6hCPQw",
        "outputId": "417cccde-bddc-4a60-f71a-c71071edb9bd"
      },
      "execution_count": null,
      "outputs": [
        {
          "output_type": "stream",
          "name": "stdout",
          "text": [
            "Help on built-in function print in module builtins:\n",
            "\n",
            "print(...)\n",
            "    print(value, ..., sep=' ', end='\\n', file=sys.stdout, flush=False)\n",
            "    \n",
            "    Prints the values to a stream, or to sys.stdout by default.\n",
            "    Optional keyword arguments:\n",
            "    file:  a file-like object (stream); defaults to the current sys.stdout.\n",
            "    sep:   string inserted between values, default a space.\n",
            "    end:   string appended after the last value, default a newline.\n",
            "    flush: whether to forcibly flush the stream.\n",
            "\n"
          ]
        }
      ]
    },
    {
      "cell_type": "code",
      "source": [
        "text1 ='I bought'\n",
        "text2 = 'kg. of apple this morning'\n",
        "amount = 6\n",
        "text3 = text1 + ' ' + str(amount) + ' ' + text2  #amount daki sayısı string e çeviriyoruz. + ile birleştiriyoruz cümleleri.\n",
        "print (text1,amount,text2)\n",
        "print ('I bought', 6 , 'kg. of apple this morning')\n",
        "print ('I bought '+ '6' + 'kg. of apple this morning')\n",
        "print (text3)"
      ],
      "metadata": {
        "id": "UVeSD0miEB3o",
        "colab": {
          "base_uri": "https://localhost:8080/"
        },
        "outputId": "fd4dd548-2f17-4bba-9873-5ed89471655e"
      },
      "execution_count": 3,
      "outputs": [
        {
          "output_type": "stream",
          "name": "stdout",
          "text": [
            "I bought 6 kg. of apple this morning\n",
            "I bought 6 kg. of apple this morning\n",
            "I bought 6kg. of apple this morning\n",
            "I bought 6 kg. of apple this morning\n"
          ]
        }
      ]
    },
    {
      "cell_type": "markdown",
      "source": [
        "**ESCAPE CHARACTERS **\n",
        "\n",
        "```\n",
        "Code\tResult\tTry it\n",
        "\\'\tSingle Quote\n",
        "\\\\\tBackslash\n",
        "\\n\tNew Line\n",
        "\\r\tCarriage Return\n",
        "\\t\tTab\n",
        "\\b\tBackspace\n",
        "\\f\tForm Feed\n",
        "\\ooo\tOctal value\n",
        "\\xhh\tHex value\n",
        "```\n",
        "\n"
      ],
      "metadata": {
        "id": "xhT5KkbpxPPn"
      }
    },
    {
      "cell_type": "markdown",
      "source": [
        "\n",
        "\n",
        "```\n",
        "**Kaçış karakteri\tişlev\tÖrnek Kod\tSonuç**\n",
        "**\\n**\tThe yeni satır karakteri programcının bir dizeden önce veya sonra yeni bir satır eklemesine yardımcı olur.\t**txt = “Guru\\n99!”**\n",
        "yazdır(txt)**\tGuru99**\n",
        "**\\\\**\tBu kaçış dizisi programcının karakterin içine ters eğik çizgi eklemesine olanak tanır. Python çıktı.\ttxt = “Guru\\\\99!”\n",
        "yazdır(txt)**\tGuru\\99!**\n",
        "**\\xhhh**\tTers eğik çizgiyi ve ardından onaltılık sayıyı kullanın.\n",
        "Bu, ters eğik çizgiyle, onaltılık eşdeğeri ise çift tırnak işaretiyle yazdırılarak yapılır.\ttxt = “\\x47\\x75\\x72\\x75” + “99!”\n",
        "yazdır(txt) \tGuru99!\n",
        "**\\oooo**\tSekizli bir değerin tam sayı değerini elde etmek için, ters eğik çizgiden sonra ooo veya çift tırnak içinde sekizli sayıyı girin.\n",
        "Bu, çift tırnak içinde üç sekizli eşdeğeri olan bir ters eğik çizginin içine yazdırılarak yapılır.\ttxt = '\\107\\125\\122\\125'+ “99!”\n",
        "yazdır(txt)\tGURU99!\n",
        "**\\b**\tBu kaçış dizisi, Python dizi. Ters eğik çizgi ve ardından \"b\" eklenerek eklenir.\n",
        "Buradaki “b” ters eğik çizgiyi temsil ediyor.\ttxt = “Guru\\b99!”\n",
        "yazdır(txt)\tGur99!\n",
        "**\\f**\tDeğişmez dizelerin enterpolasyonuna yardımcı olur\ttxt = “Guru\\f99!”\n",
        "yazdır(txt)\tGuru\n",
        "99!\n",
        "**\\r**\tHam bir dize oluşturmanıza yardımcı olur\ttxt = “Guru\\r99!”\n",
        "yazdır(txt)\t99!u\n",
        "**\\ '**\tDizeye tek bir tırnak eklemenize yardımcı olur\ttxt = “Guru\\'99!”\n",
        "yazdır(txt)\tGuru'99!\n",
        "\n",
        "```\n",
        "\n"
      ],
      "metadata": {
        "id": "fjDjPiEm1KlQ"
      }
    },
    {
      "cell_type": "code",
      "source": [
        "#valuelar (değerler) arasına ayraç olarak ne konulacak.\n",
        "print ('C:\\\\north pole\\noise_penguins.txt ')\n",
        "print ('-------')\n",
        "print ('first', 'second', 'third', sep='\\t')\n"
      ],
      "metadata": {
        "colab": {
          "base_uri": "https://localhost:8080/"
        },
        "id": "kDaNSkElxfcL",
        "outputId": "0e3667ae-9208-46cb-ddaa-3d29192adb3d"
      },
      "execution_count": 4,
      "outputs": [
        {
          "output_type": "stream",
          "name": "stdout",
          "text": [
            "C:\\north pole\n",
            "oise_penguins.txt \n",
            "-------\n",
            "first\tsecond\tthird\n"
          ]
        }
      ]
    },
    {
      "cell_type": "code",
      "source": [
        "#'\\b' aradaki boşlukları kaldırıyor.Cümleler birleşiyor.\n",
        "print ('we are', '\\boosting', 'our', '\\brotherhood')\n",
        "print ('it\\'s essential to learn Python\\'s libraries in IT World')"
      ],
      "metadata": {
        "colab": {
          "base_uri": "https://localhost:8080/"
        },
        "id": "Yved-5ZA0Fco",
        "outputId": "e51be11e-9720-4ad7-9838-bbd9055d47cc"
      },
      "execution_count": 5,
      "outputs": [
        {
          "output_type": "stream",
          "name": "stdout",
          "text": [
            "we are \boosting our \brotherhood\n",
            "it's essential to learn Python's libraries in IT World\n"
          ]
        }
      ]
    },
    {
      "cell_type": "code",
      "source": [
        "#Klavyeden girilen ismi 5 kez alt alta yazdırın.\n",
        "name = input('İsminiz..:')\n",
        "print(name)\n",
        "print(name)\n",
        "print(name)\n",
        "print(name)"
      ],
      "metadata": {
        "colab": {
          "base_uri": "https://localhost:8080/"
        },
        "id": "fJj74zkN25vl",
        "outputId": "0cd7887d-e58e-4f58-e95e-d2c3dbf0a6b2"
      },
      "execution_count": 17,
      "outputs": [
        {
          "output_type": "stream",
          "name": "stdout",
          "text": [
            "İsminiz..:selam\n",
            "selam\n",
            "selam\n",
            "selam\n",
            "selam\n"
          ]
        }
      ]
    },
    {
      "cell_type": "code",
      "source": [
        "#advance çözüm\n",
        "print((name+'\\n')*5)"
      ],
      "metadata": {
        "colab": {
          "base_uri": "https://localhost:8080/"
        },
        "id": "YFHNr43u4vch",
        "outputId": "2c7553a7-d094-4609-974e-dc49d5d2acfc"
      },
      "execution_count": 12,
      "outputs": [
        {
          "output_type": "stream",
          "name": "stdout",
          "text": [
            "python\n",
            "python\n",
            "python\n",
            "python\n",
            "python\n",
            "\n"
          ]
        }
      ]
    },
    {
      "cell_type": "code",
      "source": [
        "#Matematik ile ilgili bütün fonksiyonlar 'math' kütüphanesinde yer almaktadır.\n",
        "import math\n",
        "help (math)"
      ],
      "metadata": {
        "colab": {
          "base_uri": "https://localhost:8080/"
        },
        "id": "iMjGY4LG5Vtd",
        "outputId": "59c8b1f4-546c-4ee5-f4aa-2c2e95b57248"
      },
      "execution_count": 15,
      "outputs": [
        {
          "output_type": "stream",
          "name": "stdout",
          "text": [
            "Help on built-in module math:\n",
            "\n",
            "NAME\n",
            "    math\n",
            "\n",
            "DESCRIPTION\n",
            "    This module provides access to the mathematical functions\n",
            "    defined by the C standard.\n",
            "\n",
            "FUNCTIONS\n",
            "    acos(x, /)\n",
            "        Return the arc cosine (measured in radians) of x.\n",
            "        \n",
            "        The result is between 0 and pi.\n",
            "    \n",
            "    acosh(x, /)\n",
            "        Return the inverse hyperbolic cosine of x.\n",
            "    \n",
            "    asin(x, /)\n",
            "        Return the arc sine (measured in radians) of x.\n",
            "        \n",
            "        The result is between -pi/2 and pi/2.\n",
            "    \n",
            "    asinh(x, /)\n",
            "        Return the inverse hyperbolic sine of x.\n",
            "    \n",
            "    atan(x, /)\n",
            "        Return the arc tangent (measured in radians) of x.\n",
            "        \n",
            "        The result is between -pi/2 and pi/2.\n",
            "    \n",
            "    atan2(y, x, /)\n",
            "        Return the arc tangent (measured in radians) of y/x.\n",
            "        \n",
            "        Unlike atan(y/x), the signs of both x and y are considered.\n",
            "    \n",
            "    atanh(x, /)\n",
            "        Return the inverse hyperbolic tangent of x.\n",
            "    \n",
            "    ceil(x, /)\n",
            "        Return the ceiling of x as an Integral.\n",
            "        \n",
            "        This is the smallest integer >= x.\n",
            "    \n",
            "    comb(n, k, /)\n",
            "        Number of ways to choose k items from n items without repetition and without order.\n",
            "        \n",
            "        Evaluates to n! / (k! * (n - k)!) when k <= n and evaluates\n",
            "        to zero when k > n.\n",
            "        \n",
            "        Also called the binomial coefficient because it is equivalent\n",
            "        to the coefficient of k-th term in polynomial expansion of the\n",
            "        expression (1 + x)**n.\n",
            "        \n",
            "        Raises TypeError if either of the arguments are not integers.\n",
            "        Raises ValueError if either of the arguments are negative.\n",
            "    \n",
            "    copysign(x, y, /)\n",
            "        Return a float with the magnitude (absolute value) of x but the sign of y.\n",
            "        \n",
            "        On platforms that support signed zeros, copysign(1.0, -0.0)\n",
            "        returns -1.0.\n",
            "    \n",
            "    cos(x, /)\n",
            "        Return the cosine of x (measured in radians).\n",
            "    \n",
            "    cosh(x, /)\n",
            "        Return the hyperbolic cosine of x.\n",
            "    \n",
            "    degrees(x, /)\n",
            "        Convert angle x from radians to degrees.\n",
            "    \n",
            "    dist(p, q, /)\n",
            "        Return the Euclidean distance between two points p and q.\n",
            "        \n",
            "        The points should be specified as sequences (or iterables) of\n",
            "        coordinates.  Both inputs must have the same dimension.\n",
            "        \n",
            "        Roughly equivalent to:\n",
            "            sqrt(sum((px - qx) ** 2.0 for px, qx in zip(p, q)))\n",
            "    \n",
            "    erf(x, /)\n",
            "        Error function at x.\n",
            "    \n",
            "    erfc(x, /)\n",
            "        Complementary error function at x.\n",
            "    \n",
            "    exp(x, /)\n",
            "        Return e raised to the power of x.\n",
            "    \n",
            "    expm1(x, /)\n",
            "        Return exp(x)-1.\n",
            "        \n",
            "        This function avoids the loss of precision involved in the direct evaluation of exp(x)-1 for small x.\n",
            "    \n",
            "    fabs(x, /)\n",
            "        Return the absolute value of the float x.\n",
            "    \n",
            "    factorial(x, /)\n",
            "        Find x!.\n",
            "        \n",
            "        Raise a ValueError if x is negative or non-integral.\n",
            "    \n",
            "    floor(x, /)\n",
            "        Return the floor of x as an Integral.\n",
            "        \n",
            "        This is the largest integer <= x.\n",
            "    \n",
            "    fmod(x, y, /)\n",
            "        Return fmod(x, y), according to platform C.\n",
            "        \n",
            "        x % y may differ.\n",
            "    \n",
            "    frexp(x, /)\n",
            "        Return the mantissa and exponent of x, as pair (m, e).\n",
            "        \n",
            "        m is a float and e is an int, such that x = m * 2.**e.\n",
            "        If x is 0, m and e are both 0.  Else 0.5 <= abs(m) < 1.0.\n",
            "    \n",
            "    fsum(seq, /)\n",
            "        Return an accurate floating point sum of values in the iterable seq.\n",
            "        \n",
            "        Assumes IEEE-754 floating point arithmetic.\n",
            "    \n",
            "    gamma(x, /)\n",
            "        Gamma function at x.\n",
            "    \n",
            "    gcd(*integers)\n",
            "        Greatest Common Divisor.\n",
            "    \n",
            "    hypot(...)\n",
            "        hypot(*coordinates) -> value\n",
            "        \n",
            "        Multidimensional Euclidean distance from the origin to a point.\n",
            "        \n",
            "        Roughly equivalent to:\n",
            "            sqrt(sum(x**2 for x in coordinates))\n",
            "        \n",
            "        For a two dimensional point (x, y), gives the hypotenuse\n",
            "        using the Pythagorean theorem:  sqrt(x*x + y*y).\n",
            "        \n",
            "        For example, the hypotenuse of a 3/4/5 right triangle is:\n",
            "        \n",
            "            >>> hypot(3.0, 4.0)\n",
            "            5.0\n",
            "    \n",
            "    isclose(a, b, *, rel_tol=1e-09, abs_tol=0.0)\n",
            "        Determine whether two floating point numbers are close in value.\n",
            "        \n",
            "          rel_tol\n",
            "            maximum difference for being considered \"close\", relative to the\n",
            "            magnitude of the input values\n",
            "          abs_tol\n",
            "            maximum difference for being considered \"close\", regardless of the\n",
            "            magnitude of the input values\n",
            "        \n",
            "        Return True if a is close in value to b, and False otherwise.\n",
            "        \n",
            "        For the values to be considered close, the difference between them\n",
            "        must be smaller than at least one of the tolerances.\n",
            "        \n",
            "        -inf, inf and NaN behave similarly to the IEEE 754 Standard.  That\n",
            "        is, NaN is not close to anything, even itself.  inf and -inf are\n",
            "        only close to themselves.\n",
            "    \n",
            "    isfinite(x, /)\n",
            "        Return True if x is neither an infinity nor a NaN, and False otherwise.\n",
            "    \n",
            "    isinf(x, /)\n",
            "        Return True if x is a positive or negative infinity, and False otherwise.\n",
            "    \n",
            "    isnan(x, /)\n",
            "        Return True if x is a NaN (not a number), and False otherwise.\n",
            "    \n",
            "    isqrt(n, /)\n",
            "        Return the integer part of the square root of the input.\n",
            "    \n",
            "    lcm(*integers)\n",
            "        Least Common Multiple.\n",
            "    \n",
            "    ldexp(x, i, /)\n",
            "        Return x * (2**i).\n",
            "        \n",
            "        This is essentially the inverse of frexp().\n",
            "    \n",
            "    lgamma(x, /)\n",
            "        Natural logarithm of absolute value of Gamma function at x.\n",
            "    \n",
            "    log(...)\n",
            "        log(x, [base=math.e])\n",
            "        Return the logarithm of x to the given base.\n",
            "        \n",
            "        If the base not specified, returns the natural logarithm (base e) of x.\n",
            "    \n",
            "    log10(x, /)\n",
            "        Return the base 10 logarithm of x.\n",
            "    \n",
            "    log1p(x, /)\n",
            "        Return the natural logarithm of 1+x (base e).\n",
            "        \n",
            "        The result is computed in a way which is accurate for x near zero.\n",
            "    \n",
            "    log2(x, /)\n",
            "        Return the base 2 logarithm of x.\n",
            "    \n",
            "    modf(x, /)\n",
            "        Return the fractional and integer parts of x.\n",
            "        \n",
            "        Both results carry the sign of x and are floats.\n",
            "    \n",
            "    nextafter(x, y, /)\n",
            "        Return the next floating-point value after x towards y.\n",
            "    \n",
            "    perm(n, k=None, /)\n",
            "        Number of ways to choose k items from n items without repetition and with order.\n",
            "        \n",
            "        Evaluates to n! / (n - k)! when k <= n and evaluates\n",
            "        to zero when k > n.\n",
            "        \n",
            "        If k is not specified or is None, then k defaults to n\n",
            "        and the function returns n!.\n",
            "        \n",
            "        Raises TypeError if either of the arguments are not integers.\n",
            "        Raises ValueError if either of the arguments are negative.\n",
            "    \n",
            "    pow(x, y, /)\n",
            "        Return x**y (x to the power of y).\n",
            "    \n",
            "    prod(iterable, /, *, start=1)\n",
            "        Calculate the product of all the elements in the input iterable.\n",
            "        \n",
            "        The default start value for the product is 1.\n",
            "        \n",
            "        When the iterable is empty, return the start value.  This function is\n",
            "        intended specifically for use with numeric values and may reject\n",
            "        non-numeric types.\n",
            "    \n",
            "    radians(x, /)\n",
            "        Convert angle x from degrees to radians.\n",
            "    \n",
            "    remainder(x, y, /)\n",
            "        Difference between x and the closest integer multiple of y.\n",
            "        \n",
            "        Return x - n*y where n*y is the closest integer multiple of y.\n",
            "        In the case where x is exactly halfway between two multiples of\n",
            "        y, the nearest even value of n is used. The result is always exact.\n",
            "    \n",
            "    sin(x, /)\n",
            "        Return the sine of x (measured in radians).\n",
            "    \n",
            "    sinh(x, /)\n",
            "        Return the hyperbolic sine of x.\n",
            "    \n",
            "    sqrt(x, /)\n",
            "        Return the square root of x.\n",
            "    \n",
            "    tan(x, /)\n",
            "        Return the tangent of x (measured in radians).\n",
            "    \n",
            "    tanh(x, /)\n",
            "        Return the hyperbolic tangent of x.\n",
            "    \n",
            "    trunc(x, /)\n",
            "        Truncates the Real x to the nearest Integral toward 0.\n",
            "        \n",
            "        Uses the __trunc__ magic method.\n",
            "    \n",
            "    ulp(x, /)\n",
            "        Return the value of the least significant bit of the float x.\n",
            "\n",
            "DATA\n",
            "    e = 2.718281828459045\n",
            "    inf = inf\n",
            "    nan = nan\n",
            "    pi = 3.141592653589793\n",
            "    tau = 6.283185307179586\n",
            "\n",
            "FILE\n",
            "    (built-in)\n",
            "\n",
            "\n"
          ]
        }
      ]
    },
    {
      "cell_type": "code",
      "source": [
        "#Bir üçgenin hipotenüsünü hesaplayalım.\n",
        "#a^3 + b^4 = c^2\n",
        "import math\n",
        "a = 3\n",
        "b = 4\n",
        "c = math.sqrt(a**2 + b**2) # buradaki math.sqrt karakökünü alma işleminde kullanılır.\n",
        "print ('Hipotenus..:',c)"
      ],
      "metadata": {
        "colab": {
          "base_uri": "https://localhost:8080/"
        },
        "id": "Ew_3L7MF6TtH",
        "outputId": "bbde4aa7-914e-4196-bf55-9bfc3353adb6"
      },
      "execution_count": 19,
      "outputs": [
        {
          "output_type": "stream",
          "name": "stdout",
          "text": [
            "Hipotenus..: 5.0\n"
          ]
        }
      ]
    },
    {
      "cell_type": "code",
      "source": [
        "#Bir dairenin alanını hesaplama.\n",
        "import math\n",
        "r=5     #Yarıçap\n",
        "#round : Yuvarlama işlemi yapar.\n",
        "\n",
        "print ('Daire alanı...', round(math.pi*r**2))"
      ],
      "metadata": {
        "colab": {
          "base_uri": "https://localhost:8080/"
        },
        "id": "jZXcKFk-7s0l",
        "outputId": "49738501-09e8-4797-ec28-caa18b3bf90f"
      },
      "execution_count": 21,
      "outputs": [
        {
          "output_type": "stream",
          "name": "stdout",
          "text": [
            "Daire alanı... 79\n"
          ]
        }
      ]
    },
    {
      "cell_type": "markdown",
      "source": [],
      "metadata": {
        "id": "CFXFENVw8NVe"
      }
    },
    {
      "cell_type": "code",
      "source": [
        "bool (None)"
      ],
      "metadata": {
        "colab": {
          "base_uri": "https://localhost:8080/"
        },
        "id": "fGNaMXok_-H8",
        "outputId": "7c800231-e767-4a03-f50e-cbb7c0657fd7"
      },
      "execution_count": 22,
      "outputs": [
        {
          "output_type": "execute_result",
          "data": {
            "text/plain": [
              "False"
            ]
          },
          "metadata": {},
          "execution_count": 22
        }
      ]
    },
    {
      "cell_type": "code",
      "source": [
        "bool(0)"
      ],
      "metadata": {
        "colab": {
          "base_uri": "https://localhost:8080/"
        },
        "id": "NrH1YDWNAC8S",
        "outputId": "1f5f4d8e-d75c-4f44-da68-a2dd5ee977fa"
      },
      "execution_count": 23,
      "outputs": [
        {
          "output_type": "execute_result",
          "data": {
            "text/plain": [
              "False"
            ]
          },
          "metadata": {},
          "execution_count": 23
        }
      ]
    },
    {
      "cell_type": "code",
      "source": [
        "bool(0.0) # içerisindeki 0 hep FALSE döndürür."
      ],
      "metadata": {
        "colab": {
          "base_uri": "https://localhost:8080/"
        },
        "id": "Rqi38rPZAHum",
        "outputId": "699385e5-d2ba-4e55-c948-067b5be59133"
      },
      "execution_count": 24,
      "outputs": [
        {
          "output_type": "execute_result",
          "data": {
            "text/plain": [
              "False"
            ]
          },
          "metadata": {},
          "execution_count": 24
        }
      ]
    },
    {
      "cell_type": "code",
      "source": [
        "bool(000000.00001) # içerisine nokta dahi koysanız TRUE döndürür."
      ],
      "metadata": {
        "colab": {
          "base_uri": "https://localhost:8080/"
        },
        "id": "HfTl4SHjAJ2U",
        "outputId": "a8d9291c-7dd3-42b0-fd40-2246a79c17cc"
      },
      "execution_count": 25,
      "outputs": [
        {
          "output_type": "execute_result",
          "data": {
            "text/plain": [
              "True"
            ]
          },
          "metadata": {},
          "execution_count": 25
        }
      ]
    },
    {
      "cell_type": "code",
      "source": [
        "print(2 and 3) # Hepsi TRUE ise en sondaki elamanı verir."
      ],
      "metadata": {
        "colab": {
          "base_uri": "https://localhost:8080/"
        },
        "id": "cZ3wWaAiAcXZ",
        "outputId": "ecb410b1-fcd9-46cc-9401-2e1bc30fb87a"
      },
      "execution_count": 26,
      "outputs": [
        {
          "output_type": "stream",
          "name": "stdout",
          "text": [
            "3\n"
          ]
        }
      ]
    },
    {
      "cell_type": "code",
      "source": [
        "print(2 or 3) # Hepsi TRUE ise en baştaki elemanı verir."
      ],
      "metadata": {
        "colab": {
          "base_uri": "https://localhost:8080/"
        },
        "id": "ian1oAjUAnaW",
        "outputId": "4948c457-63b6-4997-8321-48210155c7a7"
      },
      "execution_count": 27,
      "outputs": [
        {
          "output_type": "stream",
          "name": "stdout",
          "text": [
            "2\n"
          ]
        }
      ]
    },
    {
      "cell_type": "code",
      "source": [
        "print(1 and False) # TRUE AND FALSE ise FALSE i veriyor."
      ],
      "metadata": {
        "colab": {
          "base_uri": "https://localhost:8080/"
        },
        "id": "qpyeeE-rAtVp",
        "outputId": "eafe06a9-c17b-484a-aeef-f367b862d8b9"
      },
      "execution_count": 28,
      "outputs": [
        {
          "output_type": "stream",
          "name": "stdout",
          "text": [
            "False\n"
          ]
        }
      ]
    },
    {
      "cell_type": "code",
      "source": [
        "print(1 and 0)"
      ],
      "metadata": {
        "colab": {
          "base_uri": "https://localhost:8080/"
        },
        "id": "WRzxjb3UBBOZ",
        "outputId": "82db7f27-8072-48e9-8897-4e18dba844a3"
      },
      "execution_count": 29,
      "outputs": [
        {
          "output_type": "stream",
          "name": "stdout",
          "text": [
            "0\n"
          ]
        }
      ]
    },
    {
      "cell_type": "code",
      "source": [
        "print (None and 0 and '') #and :ilk FALSE elemanı döndürür."
      ],
      "metadata": {
        "colab": {
          "base_uri": "https://localhost:8080/"
        },
        "id": "DRHHpWhSBL0v",
        "outputId": "1bae23a3-e9e1-4ef6-ee39-80efe5a8e046"
      },
      "execution_count": 30,
      "outputs": [
        {
          "output_type": "stream",
          "name": "stdout",
          "text": [
            "None\n"
          ]
        }
      ]
    },
    {
      "cell_type": "code",
      "source": [
        "print(2 and 'hello world') # TRUE + TRUE = en sondaki TRUE çıkar.\n",
        "print([] and 'be happy') # ilk ki içi boş bir listedir ve FALSE dur. Eğer FALSE + TRUE ise ilk FALSE i verir.\n",
        "print(None and ()) # None FALSE dur bu yüzden ilk FALSE i verir. FALSE + FALSE= FALSE dur."
      ],
      "metadata": {
        "colab": {
          "base_uri": "https://localhost:8080/"
        },
        "id": "_dJNX-T3Bhs2",
        "outputId": "696ee376-812e-4256-900e-054c744e73ce"
      },
      "execution_count": 31,
      "outputs": [
        {
          "output_type": "stream",
          "name": "stdout",
          "text": [
            "hello world\n",
            "[]\n",
            "None\n"
          ]
        }
      ]
    },
    {
      "cell_type": "code",
      "source": [
        "print (None or '' or 0 or [] or False)  #OR hep TRUE arıyor.Hepsi FALSE ise en sonundakini döndürür."
      ],
      "metadata": {
        "colab": {
          "base_uri": "https://localhost:8080/"
        },
        "id": "GRxAUbcuC6Hr",
        "outputId": "197fcc63-fdd4-4810-e155-c91490e1b7e0"
      },
      "execution_count": 32,
      "outputs": [
        {
          "output_type": "stream",
          "name": "stdout",
          "text": [
            "False\n"
          ]
        }
      ]
    },
    {
      "cell_type": "code",
      "source": [
        "print(2 or 'hello wrold') # TRUE + TRUE = en baştaki TRUE çıkar.\n",
        "print([] or 'be happy') # ilk ki içi boş bir listedir ve FALSE dur. Eğer FALSE + TRUE ise ilk FALSE i verir.\n",
        "print(None or ()) # None FALSE dur bu yüzden ilk FALSE i verir.\n",
        "print({ } or 0)\n",
        "print({0} or False) #Burada ilk TRUE i döndürdü."
      ],
      "metadata": {
        "colab": {
          "base_uri": "https://localhost:8080/"
        },
        "id": "DZhWBRVmEgX7",
        "outputId": "ac54a4dd-a078-4e18-f2d7-4e92c5e4a9e4"
      },
      "execution_count": 35,
      "outputs": [
        {
          "output_type": "stream",
          "name": "stdout",
          "text": [
            "2\n",
            "be happy\n",
            "()\n",
            "0\n",
            "{0}\n"
          ]
        }
      ]
    }
  ]
}