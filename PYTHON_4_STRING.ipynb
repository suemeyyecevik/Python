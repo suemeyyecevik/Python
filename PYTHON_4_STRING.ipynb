{
  "nbformat": 4,
  "nbformat_minor": 0,
  "metadata": {
    "colab": {
      "provenance": []
    },
    "kernelspec": {
      "name": "python3",
      "display_name": "Python 3"
    },
    "language_info": {
      "name": "python"
    }
  },
  "cells": [
    {
      "cell_type": "markdown",
      "source": [
        "**STRİNG**\n",
        "\n",
        "\n",
        "\n",
        "```\n",
        "Unutmayın, bir stringin numaralandırılması sıfırdan başlar .\n",
        "Dize indekslemesinin formül sözdizimi şudur:string[start:stop:step] .\n",
        "\n",
        "string[:]: dizinin tam kopyasını döndürür\n",
        "\n",
        "string[start:]: öğeleri başlangıçtan bitiş öğesine kadar döndürür\n",
        "\n",
        "string[:stop]: 1. öğeden stop-1'e kadar olan öğeyi döndürür\n",
        "\n",
        "string[::step]: her bir öğeyi belirli bir adımla döndürür\n",
        "```\n",
        "\n"
      ],
      "metadata": {
        "id": "D-4no6H3J787"
      }
    },
    {
      "cell_type": "code",
      "source": [
        "city = 'Phoenix'\n",
        "\n",
        "print(city[1:])  # starts from index 1 to the end - dizin 1'den sonuna kadar başlar.\n",
        "print(city[:6])  # starts from zero to 5th index - sıfırdan başlayarak 5. endekse kadar.\n",
        "print(city[::2])  # starts from zero to end by 2 step - sıfırdan başlayıp 2 adımla sona erer.\n",
        "print(city[1::2])  # starts from index 1 to the end by 2 step - dizin 1'den başlayıp 2 adımla sona erer.\n",
        "print(city[-3:])  # starts from index -3 to the end - dizin -3'ten sonuna kadar başlar.\n",
        "print(city[::-1])  # negative step starts from the end to zero- negatif adım sondan sıfıra doğru başlar.\n"
      ],
      "metadata": {
        "colab": {
          "base_uri": "https://localhost:8080/"
        },
        "id": "C85BIsH6KJtL",
        "outputId": "35c66fad-edfe-4f3c-cd7a-95314261b7b4"
      },
      "execution_count": 1,
      "outputs": [
        {
          "output_type": "stream",
          "name": "stdout",
          "text": [
            "hoenix\n",
            "Phoeni\n",
            "Ponx\n",
            "hei\n",
            "nix\n",
            "xineohP\n"
          ]
        }
      ]
    },
    {
      "cell_type": "code",
      "source": [
        "# Aldığımız web sayfasının güvenli mi değil mi olduğunu öğreniyoruz.\n",
        "url= 'https://www.youtube.com/'\n",
        "guvenlimi =url [0:5]\n",
        "print (guvenlimi[4] and 'güvenli' or 'güvenli değil')"
      ],
      "metadata": {
        "colab": {
          "base_uri": "https://localhost:8080/"
        },
        "id": "wbyrQMRmRYio",
        "outputId": "d761285d-87db-414c-c5a4-1cce3701ff1a"
      },
      "execution_count": 2,
      "outputs": [
        {
          "output_type": "stream",
          "name": "stdout",
          "text": [
            "güvenli\n"
          ]
        }
      ]
    },
    {
      "cell_type": "code",
      "source": [
        "#Indis (index) : Bir koleksiyonun (string,dizi,liste,tuple,...) elemanlarına erişimde kullanılır.\n",
        "#degişken [indis no]\n",
        "#fruit [5]:  fruit degişkeninin 5. elemanına erişim."
      ],
      "metadata": {
        "id": "led-Z5wEU89K"
      },
      "execution_count": null,
      "outputs": []
    },
    {
      "cell_type": "code",
      "source": [
        "#Dilimleme (slicing) degişken [baslangıc-bitis] bitiş dahil değil."
      ],
      "metadata": {
        "id": "f5LyIrClY2_Z"
      },
      "execution_count": null,
      "outputs": []
    },
    {
      "cell_type": "code",
      "source": [
        "fruit = 'Orange'\n",
        "\n",
        "print('Word                   : ' , fruit)\n",
        "print('First letter           : ' , fruit[0]) # fruit in 0. indisli elemanına erişim.\n",
        "print('Second letter          : ' , fruit[1])\n",
        "print(\"3rd to 5th letters     : \" , fruit[2:5])\n",
        "print(\"Letter all after 3rd   : \" , fruit[2:])"
      ],
      "metadata": {
        "id": "FJFfM2pPZRTp"
      },
      "execution_count": null,
      "outputs": []
    },
    {
      "cell_type": "code",
      "source": [
        "#ders() fonksiyondur.\n",
        "#print() fonksiyondur.\n",
        "#input() fonksiyondur.\n",
        "#fruit bir değişkendir.\n"
      ],
      "metadata": {
        "id": "Zv7UAra-Zij3"
      },
      "execution_count": null,
      "outputs": []
    },
    {
      "cell_type": "code",
      "source": [
        "#fruitin en son elemanına nasıl erişirim.\n",
        "fruit = 'Orange'\n",
        "print(fruit[-1]) # negatif indis."
      ],
      "metadata": {
        "colab": {
          "base_uri": "https://localhost:8080/"
        },
        "id": "1niJvtjwad1U",
        "outputId": "c1ad801e-7675-453d-8733-748dc937f861"
      },
      "execution_count": 3,
      "outputs": [
        {
          "output_type": "stream",
          "name": "stdout",
          "text": [
            "e\n"
          ]
        }
      ]
    },
    {
      "cell_type": "code",
      "source": [
        "#Bir stringi ters çevirmek için -1 step yapılır.\n",
        "#[::-1]\n",
        "fruit [::-1]"
      ],
      "metadata": {
        "colab": {
          "base_uri": "https://localhost:8080/",
          "height": 35
        },
        "id": "nCgSrl73at09",
        "outputId": "ce15b561-f93c-4c36-8b77-5e6edb1e6cac"
      },
      "execution_count": 4,
      "outputs": [
        {
          "output_type": "execute_result",
          "data": {
            "text/plain": [
              "'egnarO'"
            ],
            "application/vnd.google.colaboratory.intrinsic+json": {
              "type": "string"
            }
          },
          "metadata": {},
          "execution_count": 4
        }
      ]
    },
    {
      "cell_type": "code",
      "source": [
        "city [-5:-2]"
      ],
      "metadata": {
        "colab": {
          "base_uri": "https://localhost:8080/",
          "height": 35
        },
        "id": "p8EjSn5Wdchc",
        "outputId": "0ebcc46f-ca3a-440b-8ca1-69985539e5e6"
      },
      "execution_count": 6,
      "outputs": [
        {
          "output_type": "execute_result",
          "data": {
            "text/plain": [
              "'oen'"
            ],
            "application/vnd.google.colaboratory.intrinsic+json": {
              "type": "string"
            }
          },
          "metadata": {},
          "execution_count": 6
        }
      ]
    },
    {
      "cell_type": "code",
      "source": [
        "city [-5:-7:-1] # Step değeri negatif ise ilerleme yönü sağdan sola doğrudur."
      ],
      "metadata": {
        "colab": {
          "base_uri": "https://localhost:8080/",
          "height": 35
        },
        "id": "ZC6ZVmiDdszt",
        "outputId": "b488958f-d7fd-4348-a360-9d76a725179f"
      },
      "execution_count": 7,
      "outputs": [
        {
          "output_type": "execute_result",
          "data": {
            "text/plain": [
              "'oh'"
            ],
            "application/vnd.google.colaboratory.intrinsic+json": {
              "type": "string"
            }
          },
          "metadata": {},
          "execution_count": 7
        }
      ]
    },
    {
      "cell_type": "code",
      "source": [
        "animal = 'hippopotamus'\n",
        "print(animal [1:]) # 1 den sona doğru\n",
        "print(animal [:6]) # Baştan 6.ya kadar git.\n",
        "print(animal [::2]) # Baştan başla sona doğru git ama 2 şer 2 şer  git.\n",
        "print(animal [1:7:2]) # 1 den başla 7 ye kadar 2 şer 2 şer git ama 7 i alma.\n",
        "print(animal [-3:]) #\n",
        "print(animal [::-1]) # Ters çevir."
      ],
      "metadata": {
        "colab": {
          "base_uri": "https://localhost:8080/"
        },
        "id": "Jfv2xVpveIC1",
        "outputId": "f550caa3-4a02-4c83-de56-8312b34035f4"
      },
      "execution_count": 8,
      "outputs": [
        {
          "output_type": "stream",
          "name": "stdout",
          "text": [
            "ippopotamus\n",
            "hippop\n",
            "hpooau\n",
            "ipp\n",
            "mus\n",
            "sumatopoppih\n"
          ]
        }
      ]
    },
    {
      "cell_type": "code",
      "source": [
        "vegatable = \"Tomato\"\n",
        "print('length of the word',vegatable  , 'is :',len(vegatable))\n",
        "#len() : Stringin/Koleksiyonun karakter sayısını verir.\n",
        "\n"
      ],
      "metadata": {
        "colab": {
          "base_uri": "https://localhost:8080/"
        },
        "id": "5Q9a2yktkama",
        "outputId": "bb6e8d0a-7566-4c39-e648-06f9c2b93bea"
      },
      "execution_count": 11,
      "outputs": [
        {
          "output_type": "stream",
          "name": "stdout",
          "text": [
            "length of the word Tomato is : 6\n"
          ]
        }
      ]
    },
    {
      "cell_type": "code",
      "source": [
        "vegatable [len(vegatable)-1] #En son elemana erişmek için.\n"
      ],
      "metadata": {
        "colab": {
          "base_uri": "https://localhost:8080/",
          "height": 35
        },
        "id": "hvEghDFjlDoB",
        "outputId": "ffd5ed52-7bab-4ea7-cc74-f5bd54124176"
      },
      "execution_count": 12,
      "outputs": [
        {
          "output_type": "execute_result",
          "data": {
            "text/plain": [
              "'o'"
            ],
            "application/vnd.google.colaboratory.intrinsic+json": {
              "type": "string"
            }
          },
          "metadata": {},
          "execution_count": 12
        }
      ]
    },
    {
      "cell_type": "markdown",
      "source": [
        "**STRİNG FORMATLAMA İŞLEMİ**\n",
        "\n",
        "\n",
        "```\n",
        "+ : toplama/birleştirme işlemi için kullanılır.\n",
        "= : atama operatörü (assing)\n",
        "* : çarpma operatörü tekrarlama işlemi yapar.\n",
        "```\n",
        "\n"
      ],
      "metadata": {
        "id": "dnMMXoSDrREx"
      }
    },
    {
      "cell_type": "code",
      "source": [
        "# + birleştirme işlemi yapar.\n",
        "str_one = 'upper'\n",
        "str_two = 'case'\n",
        "str_comb = str_one + str_two\n",
        "print('upper'+'case')\n",
        "print(str_one + str_two)\n",
        "print(str_comb)"
      ],
      "metadata": {
        "colab": {
          "base_uri": "https://localhost:8080/"
        },
        "id": "iaWwEIgOrWka",
        "outputId": "7d15e91a-de12-4e77-e058-9d33dec8110b"
      },
      "execution_count": 13,
      "outputs": [
        {
          "output_type": "stream",
          "name": "stdout",
          "text": [
            "uppercase\n",
            "uppercase\n",
            "uppercase\n"
          ]
        }
      ]
    },
    {
      "cell_type": "code",
      "source": [
        "str_one = 'upper'\n",
        "str_two = 3 * 'upper' # '*' çarpma / çoğaltma işlemi yapar.\n",
        "str_comb = str_one * 3\n",
        "print(str_two)\n",
        "print(str_comb)\n",
        "print(*str_one) # aynadaki görüntüde (print) geçerli ayrıştırır ,filtreleme, seyrekleştirir yapar.\n",
        "\n",
        "\n"
      ],
      "metadata": {
        "colab": {
          "base_uri": "https://localhost:8080/"
        },
        "id": "X_ZCToUWt845",
        "outputId": "ed747382-9955-4604-bf87-1dee9e9d99ca"
      },
      "execution_count": 14,
      "outputs": [
        {
          "output_type": "stream",
          "name": "stdout",
          "text": [
            "upperupperupper\n",
            "upperupperupper\n",
            "u p p e r\n"
          ]
        }
      ]
    },
    {
      "cell_type": "code",
      "source": [
        "listem = [1,2,3,4]\n",
        "print(listem)\n",
        "print(*listem) # ayrıştırır sadece printte kullanılır.Virgülleri ortadan kaldırır."
      ],
      "metadata": {
        "colab": {
          "base_uri": "https://localhost:8080/"
        },
        "id": "lTeCm2DZvlEP",
        "outputId": "d8e0e0a0-cf19-4516-b2d3-d64a09d57ff1"
      },
      "execution_count": 16,
      "outputs": [
        {
          "output_type": "stream",
          "name": "stdout",
          "text": [
            "[1, 2, 3, 4]\n",
            "1 2 3 4\n"
          ]
        }
      ]
    },
    {
      "cell_type": "code",
      "source": [
        "string1 = 'I am angry...'\n",
        "print(*string1) # ayrıştırır."
      ],
      "metadata": {
        "colab": {
          "base_uri": "https://localhost:8080/"
        },
        "id": "jrkXmUasv-Fj",
        "outputId": "6263850d-e824-422e-8502-c75869188208"
      },
      "execution_count": 20,
      "outputs": [
        {
          "output_type": "stream",
          "name": "stdout",
          "text": [
            "I   a m   a n g r y . . .\n"
          ]
        }
      ]
    },
    {
      "cell_type": "code",
      "source": [
        "#stringler değiştirilemez (unmutable/immutable) veri yapılarıdır.\n",
        "takim = 'Saray'\n",
        "#Bu takımdaki 'a'ları 'e' yapın.\n",
        "takim[2] = 'e'"
      ],
      "metadata": {
        "colab": {
          "base_uri": "https://localhost:8080/",
          "height": 176
        },
        "id": "P-fM5apFz7Hb",
        "outputId": "246636a4-e8f6-4078-8907-81eb0a54c236"
      },
      "execution_count": 21,
      "outputs": [
        {
          "output_type": "error",
          "ename": "TypeError",
          "evalue": "'str' object does not support item assignment",
          "traceback": [
            "\u001b[0;31m---------------------------------------------------------------------------\u001b[0m",
            "\u001b[0;31mTypeError\u001b[0m                                 Traceback (most recent call last)",
            "\u001b[0;32m<ipython-input-21-46e6002418e6>\u001b[0m in \u001b[0;36m<cell line: 4>\u001b[0;34m()\u001b[0m\n\u001b[1;32m      2\u001b[0m \u001b[0mtakim\u001b[0m \u001b[0;34m=\u001b[0m \u001b[0;34m'Saray'\u001b[0m\u001b[0;34m\u001b[0m\u001b[0;34m\u001b[0m\u001b[0m\n\u001b[1;32m      3\u001b[0m \u001b[0;31m#Bu takımdaki 'a'ları 'e' yapın.\u001b[0m\u001b[0;34m\u001b[0m\u001b[0;34m\u001b[0m\u001b[0m\n\u001b[0;32m----> 4\u001b[0;31m \u001b[0mtakim\u001b[0m\u001b[0;34m[\u001b[0m\u001b[0;36m2\u001b[0m\u001b[0;34m]\u001b[0m \u001b[0;34m=\u001b[0m \u001b[0;34m'e'\u001b[0m\u001b[0;34m\u001b[0m\u001b[0;34m\u001b[0m\u001b[0m\n\u001b[0m",
            "\u001b[0;31mTypeError\u001b[0m: 'str' object does not support item assignment"
          ]
        }
      ]
    },
    {
      "cell_type": "code",
      "source": [
        "#Listeler ise doğrudan değiştirilebilir. (mutable) veri yapılarıdır.\n",
        "list_takim = ['S','a','r','a','y']\n",
        "\n",
        "#bu takımdaki a ları e yapın.\n",
        "list_takim[1] = 'e'\n",
        "\n",
        "print(list_takim)"
      ],
      "metadata": {
        "colab": {
          "base_uri": "https://localhost:8080/"
        },
        "id": "OFoIDDwD29HP",
        "outputId": "6b52d802-b14c-47c6-9942-e7e27707b58d"
      },
      "execution_count": 23,
      "outputs": [
        {
          "output_type": "stream",
          "name": "stdout",
          "text": [
            "['S', 'e', 'r', 'a', 'y']\n"
          ]
        }
      ]
    },
    {
      "cell_type": "markdown",
      "source": [
        "**STRING FORMATLAMA **\n",
        "\n",
        "\n",
        "string.format()"
      ],
      "metadata": {
        "id": "2bseZAWyzlru"
      }
    },
    {
      "cell_type": "code",
      "source": [
        "#\n",
        "fruit = 'Orange'\n",
        "vegetable = 'Tomato'\n",
        "amount = 4\n",
        "output = 'The amount of {} we bought is {} pounds'.format(fruit,amount)\n",
        "print(output)"
      ],
      "metadata": {
        "colab": {
          "base_uri": "https://localhost:8080/"
        },
        "id": "EPlA-9d844kC",
        "outputId": "994ef52a-e0a7-4834-d98b-184e6f2dd0fb"
      },
      "execution_count": 1,
      "outputs": [
        {
          "output_type": "stream",
          "name": "stdout",
          "text": [
            "The amount of Orange we bought is 4 pounds\n"
          ]
        }
      ]
    },
    {
      "cell_type": "code",
      "source": [
        "fruit = 'Orange'\n",
        "vegetable = 'Tomato'\n",
        "amount = 4\n",
        "output = 'The amount of {1} we bought is {0} pounds'.format(fruit,amount)\n",
        "print(output)"
      ],
      "metadata": {
        "colab": {
          "base_uri": "https://localhost:8080/"
        },
        "id": "VxLWGdtxbbyg",
        "outputId": "1ec94c65-ab42-4250-bdc3-c5dc979d6259"
      },
      "execution_count": 2,
      "outputs": [
        {
          "output_type": "stream",
          "name": "stdout",
          "text": [
            "The amount of 4 we bought is Orange pounds\n"
          ]
        }
      ]
    },
    {
      "cell_type": "code",
      "source": [
        "\n",
        "state = 'California'\n",
        "country = 'USA'\n",
        "adjective = 'crowded'\n",
        "\n",
        "print(f'{state} is the most {adjective} state of the {country}') # Now use the print function."
      ],
      "metadata": {
        "colab": {
          "base_uri": "https://localhost:8080/"
        },
        "id": "9_U9nVukebEk",
        "outputId": "671b2698-957a-49c6-a8e8-1ad31d5f2968"
      },
      "execution_count": 17,
      "outputs": [
        {
          "output_type": "stream",
          "name": "stdout",
          "text": [
            "California is the most crowded state of the USA\n"
          ]
        }
      ]
    },
    {
      "cell_type": "code",
      "source": [
        "# f-string ile yapma\n",
        "state = 'California'\n",
        "country = 'USA'\n",
        "adjective = 'crowded'\n",
        "\n",
        "print(f'{state} is the most {adjective} state of the {country}')"
      ],
      "metadata": {
        "colab": {
          "base_uri": "https://localhost:8080/"
        },
        "id": "SlQMZqX4eqlw",
        "outputId": "cd6dee56-8f52-46a1-a665-76e885e5bf06"
      },
      "execution_count": 16,
      "outputs": [
        {
          "output_type": "stream",
          "name": "stdout",
          "text": [
            "California is the most crowded state of the USA\n"
          ]
        }
      ]
    },
    {
      "cell_type": "code",
      "source": [
        "#Bugünkü tarihi girelim.\n",
        "month = 12\n",
        "day = 10\n",
        "year = 2023\n",
        "print('{0}/{1}/{2}'.format(day,month,year))\n"
      ],
      "metadata": {
        "colab": {
          "base_uri": "https://localhost:8080/"
        },
        "id": "aP1ck5svgLUI",
        "outputId": "901590bb-cc0a-43d4-d2dd-bab154d054af"
      },
      "execution_count": 1,
      "outputs": [
        {
          "output_type": "stream",
          "name": "stdout",
          "text": [
            "10/12/2023\n"
          ]
        }
      ]
    },
    {
      "cell_type": "code",
      "source": [
        "#Bugünkü tarih.\n",
        "print('{0}/{1}/{2}'.format('27','12','2023'))"
      ],
      "metadata": {
        "colab": {
          "base_uri": "https://localhost:8080/"
        },
        "id": "Su6S9Dla3uZg",
        "outputId": "fc836818-47d8-417e-9f15-3161cecaaca9"
      },
      "execution_count": 2,
      "outputs": [
        {
          "output_type": "stream",
          "name": "stdout",
          "text": [
            "27/12/2023\n"
          ]
        }
      ]
    },
    {
      "cell_type": "code",
      "source": [
        "#Orijinal kodda 4 yer tutucu vardı ancak bunları doldurmak için yalnızca 2 değer vardı.\n",
        "# pharse = '{} {} {} {}'.format('in all','wins')\n",
        "\n",
        "#Bu düzeltilmiş sürüm 4 yer tutucu için 4 değer sağlar.\n",
        "condition = 'circumstances'\n",
        "morality = 'generosity'\n",
        "pharse = '{} {} {} {}'.format('in all', condition, morality,'wins') # 4 yer tutucuyu doldurmak için 4 değer sağlama.\n",
        "print (pharse)"
      ],
      "metadata": {
        "colab": {
          "base_uri": "https://localhost:8080/"
        },
        "id": "K-4JAQaXSADf",
        "outputId": "5e6af6fc-3aeb-41ae-9035-11ab6df6ce36"
      },
      "execution_count": 5,
      "outputs": [
        {
          "output_type": "stream",
          "name": "stdout",
          "text": [
            "in all circumstances generosity wins\n"
          ]
        }
      ]
    },
    {
      "cell_type": "code",
      "source": [
        " # f-stringi ile işlem yapma.\n",
        "sample = f'{2 ** 3}'\n",
        "print(sample)"
      ],
      "metadata": {
        "colab": {
          "base_uri": "https://localhost:8080/"
        },
        "id": "A4UhRx5AVAF2",
        "outputId": "9fef00c7-1a65-46db-d314-836fa17bceaa"
      },
      "execution_count": 6,
      "outputs": [
        {
          "output_type": "stream",
          "name": "stdout",
          "text": [
            "8\n"
          ]
        }
      ]
    },
    {
      "cell_type": "code",
      "source": [
        "#output :'My name is Mariam'. Kelimenin ilk harfini büyük yazdırmak için kullanılır.\n",
        "name = 'MARIAM'\n",
        "print(f'My name is {name.capitalize()}')"
      ],
      "metadata": {
        "colab": {
          "base_uri": "https://localhost:8080/"
        },
        "id": "211G25W6WSCf",
        "outputId": "67a3f494-b9a9-40e9-c532-c903e5c55fe7"
      },
      "execution_count": 8,
      "outputs": [
        {
          "output_type": "stream",
          "name": "stdout",
          "text": [
            "My name is Mariam\n"
          ]
        }
      ]
    },
    {
      "cell_type": "code",
      "source": [
        "#f-string ile örnek.\n",
        "name = 'Joseph'\n",
        "job = 'teachers'\n",
        "domain = 'Data Science'\n",
        "message =(\n",
        "f'Hi {name}. '\n",
        "f'You are one of the {job} '\n",
        "f'in the {domain} section.')\n",
        "print(message)"
      ],
      "metadata": {
        "colab": {
          "base_uri": "https://localhost:8080/"
        },
        "id": "gG_cEKKuXMow",
        "outputId": "0fd1d517-cbe8-45a6-f7bb-fbf27a8296d2"
      },
      "execution_count": 13,
      "outputs": [
        {
          "output_type": "stream",
          "name": "stdout",
          "text": [
            "Hi Joseph. You are one of the teachers in the Data Science section.\n"
          ]
        }
      ]
    },
    {
      "cell_type": "code",
      "source": [
        "name = 'Susan'\n",
        "age = 'young'\n",
        "gender = 'lady'\n",
        "scholl = 'AMANOS Universty'\n",
        "output = f'{name} is a {age} {gender} and she is a student at {scholl}'\n",
        "print(output)\n"
      ],
      "metadata": {
        "colab": {
          "base_uri": "https://localhost:8080/"
        },
        "id": "yQAtzQZHY113",
        "outputId": "e707a63d-9d08-4fff-b8ae-dd210f093131"
      },
      "execution_count": 14,
      "outputs": [
        {
          "output_type": "stream",
          "name": "stdout",
          "text": [
            "Susan is a young lady and she is a student at AMANOS Universty\n"
          ]
        }
      ]
    },
    {
      "cell_type": "code",
      "source": [
        "#Clarusway - yeni bir text oluştur bunu clarusway e dönüştür. (n. karakteri kaldır)\n",
        "#Clarusway - yeni bir text oluştur bunu clarusway e dönüştür. (n. karakteri kaldır)\n",
        "text = 'clarusway'\n",
        "n = 3\n",
        "new_text = text[:n] + text[n+1:] #n+1 den sonrasını al diyoruz.\n",
        "#text in n. karakterden öncesini al.\n",
        "#3. karakterden sonrasıyla başla takla attırarak yaptırdık.\n",
        "print(new_text) #öncesini ve sonrasını aldık ve birleştirdik."
      ],
      "metadata": {
        "colab": {
          "base_uri": "https://localhost:8080/"
        },
        "id": "Hoj3-XDOdMBN",
        "outputId": "c5337708-964c-40ca-bcc0-b32ea95ea301"
      },
      "execution_count": 17,
      "outputs": [
        {
          "output_type": "stream",
          "name": "stdout",
          "text": [
            "clausway\n"
          ]
        }
      ]
    }
  ]
}