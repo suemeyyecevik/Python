{
  "nbformat": 4,
  "nbformat_minor": 0,
  "metadata": {
    "colab": {
      "provenance": []
    },
    "kernelspec": {
      "name": "python3",
      "display_name": "Python 3"
    },
    "language_info": {
      "name": "python"
    }
  },
  "cells": [
    {
      "cell_type": "code",
      "source": [
        "#İç içe string kullanımında sınırlandırılma var mı ?\n",
        "f\"\"\"{\n",
        "    f'''{\n",
        "        f\"{f'{42}'}\"\n",
        "    }'''\n",
        "}\"\"\"\n",
        "#3.11 ve öncesi için en fazla 4 f-string kullanılabilir."
      ],
      "metadata": {
        "colab": {
          "base_uri": "https://localhost:8080/",
          "height": 35
        },
        "id": "COp2Yf3yf9-b",
        "outputId": "1fba554b-d07c-400a-87a2-0cbdc3642b08"
      },
      "execution_count": null,
      "outputs": [
        {
          "output_type": "execute_result",
          "data": {
            "text/plain": [
              "'42'"
            ],
            "application/vnd.google.colaboratory.intrinsic+json": {
              "type": "string"
            }
          },
          "metadata": {},
          "execution_count": 3
        }
      ]
    },
    {
      "cell_type": "code",
      "source": [
        "#Bir web adresinin uzantısını nasıl öğrenebiliriz.\n",
        "url = 'https://www.clarusway.com/about/test.csv'\n",
        "url[-3:]"
      ],
      "metadata": {
        "colab": {
          "base_uri": "https://localhost:8080/",
          "height": 35
        },
        "id": "60ULCGvDeQpE",
        "outputId": "d7c5fb0a-60f2-42f4-dbff-eafc1455540d"
      },
      "execution_count": null,
      "outputs": [
        {
          "output_type": "execute_result",
          "data": {
            "text/plain": [
              "'csv'"
            ],
            "application/vnd.google.colaboratory.intrinsic+json": {
              "type": "string"
            }
          },
          "metadata": {},
          "execution_count": 6
        }
      ]
    },
    {
      "cell_type": "code",
      "source": [
        "#Basit bir hesap makinası.\n",
        "num1 = int(input('Birinci sayı..: ')) #burada inputu int sarmalına aldık çünkü str+str de matematik işlemi olmaz bu yüzden 1 tanesi int olması gerekiyor.\n",
        "num2 = int(input('İkinci sayı..: '))\n",
        "print ('Toplamı..:',num1+num2)\n",
        "print ('Farkı..:',num1-num2)\n",
        "print ('Çarpımı..:',num1*num2)\n",
        "print ('Bölümü..:',num1/num2)"
      ],
      "metadata": {
        "id": "8Exj0cOCgqoW"
      },
      "execution_count": null,
      "outputs": []
    },
    {
      "cell_type": "code",
      "source": [
        "#Basit bir hesap makinası.\n",
        "# f string tüm bu işlemleri daha düzgün bir hale getirdi.Bir hesap makinası tasarımını yapmış olduk. iç içe f strimg örneği.\n",
        "num1 = int(input('Birinci sayı..: ')) #burada inputu int sarmalına aldık çünkü str+str de matematik işlemi olmaz bu yüzden 1 tanesi int olması gerekiyor.\n",
        "num2 = int(input('İkinci sayı..: '))\n",
        "islem = ( f'Toplamı..:{num1+num2} /n '\n",
        "          f'Farkı..:{num1-num2}/n'\n",
        "          f'Çarpımı..:{num1*num2}/n'\n",
        "          f'Bölümü..:{num1/num2}'\n",
        "         )\n",
        "print(islem)\n",
        "\n",
        "\n",
        "\n"
      ],
      "metadata": {
        "id": "z5mO6lvbmIgx"
      },
      "execution_count": null,
      "outputs": []
    },
    {
      "cell_type": "markdown",
      "source": [
        "STRING FORMATING :"
      ],
      "metadata": {
        "id": "Spi94n8jOMdy"
      }
    },
    {
      "cell_type": "code",
      "source": [
        "\"\"\"Operatörün işlevi\n",
        "%d , %i :tam sayı (int)\n",
        "%f , % g :ondalıklı sayı (float)\n",
        "%s :string\n",
        "\"\"\"\n",
        "text = 'Bir dalda %d kuş, %s %s diye öter, durur.' % (3,'cik','cik') # Sıralama önemli.\n"
      ],
      "metadata": {
        "id": "c4W_Z3tRWg6k"
      },
      "execution_count": null,
      "outputs": []
    },
    {
      "cell_type": "code",
      "source": [
        "'Hello, %s! You are %d years old.' % ('Jane',45)"
      ],
      "metadata": {
        "id": "O6nIdeU9axv1"
      },
      "execution_count": null,
      "outputs": []
    },
    {
      "cell_type": "code",
      "source": [
        "name = 'Ali'\n",
        "age = 20\n",
        "'Hello, %s! You are %d years old.'(name,age)\n"
      ],
      "metadata": {
        "id": "eIb8dVwxbMWX"
      },
      "execution_count": null,
      "outputs": []
    },
    {
      "cell_type": "code",
      "source": [
        "text = 'Bir dalda {0} kuş, {1} {1} diye öter durur.'.format(3,'cik')\n",
        "print (text)"
      ],
      "metadata": {
        "id": "_6GUpqDMbfjm"
      },
      "execution_count": null,
      "outputs": []
    },
    {
      "cell_type": "code",
      "source": [
        "adet = 3\n",
        "ses = 'cik'\n",
        "text = f\"Bir dalda {adet} kuş, {adet} {ses} diye öter durur.\"\n",
        "print(text)"
      ],
      "metadata": {
        "id": "4Tk8H24EcIzE"
      },
      "execution_count": null,
      "outputs": []
    },
    {
      "cell_type": "code",
      "source": [
        "adet = 3\n",
        "ses = \"cik\"\n",
        "text = f\"Bir dalda {adet} kuş, {ses*2} diye öter durur.\"\n",
        "print(text)"
      ],
      "metadata": {
        "id": "Lr32mgCDfn9r"
      },
      "execution_count": null,
      "outputs": []
    },
    {
      "cell_type": "markdown",
      "source": [
        "MAIN STRING OPERATIONS"
      ],
      "metadata": {
        "id": "nB0sV--xkBRU"
      }
    },
    {
      "cell_type": "code",
      "source": [
        "var_str = 'Clarusway'\n",
        "print (var_str.lower())\n",
        "print (var_str.upper())\n",
        "print (var_str.swapcase())\n",
        "print (var_str.capitalize())\n",
        "print (var_str.title())\n",
        "#"
      ],
      "metadata": {
        "id": "U5DadxAGkM7o"
      },
      "execution_count": null,
      "outputs": []
    },
    {
      "cell_type": "code",
      "source": [
        "#\n",
        "var_str = 'Clarusway'\n",
        "print (var_str.lower()) #Burada küçük harfe dönüştüğünü göreceksiniz.\n",
        "print (var_str) #Burada orjinal halini göreceksiniz.Printli ifade ile kalıcı bir değişiklik olmaz.\n",
        "var_str = 'Clarusway'.lower() #Burada kalıcı bir değişiklik oldu. Bir değişkene aktardığımız zaman değişken kalıcı hale gelir.\n",
        "print (var_str)"
      ],
      "metadata": {
        "id": "Ah3Fo8YZm-_Z"
      },
      "execution_count": null,
      "outputs": []
    },
    {
      "cell_type": "code",
      "source": [
        "#\n",
        "dir(str)[33:]"
      ],
      "metadata": {
        "id": "uUWDy3iCotKi"
      },
      "execution_count": null,
      "outputs": []
    },
    {
      "cell_type": "code",
      "source": [
        "text = 'In God we Trust'\n",
        "text.lower() # Kalıcı değişiklik olması için.\n"
      ],
      "metadata": {
        "id": "4gzEqb_qfV0e"
      },
      "execution_count": null,
      "outputs": []
    },
    {
      "cell_type": "code",
      "source": [
        "#Text büyük harflerden mi oluşuyor ?\n",
        "text = 'In God we Trust'\n",
        "text.isupper()"
      ],
      "metadata": {
        "id": "CuYVRPuogNkH"
      },
      "execution_count": null,
      "outputs": []
    },
    {
      "cell_type": "code",
      "source": [
        "text = 'ANNE'\n",
        "text.isupper()"
      ],
      "metadata": {
        "id": "DG2SYnPdgdAB"
      },
      "execution_count": null,
      "outputs": []
    },
    {
      "cell_type": "code",
      "source": [
        "#STR data tipi (stringler) immutable (doğrudan değiştirilemez) özellikli veri yapısıdır.\n",
        "data = 'Python' #Pithon olarak değiştirmek istiyoruz diyelim.\n",
        "# Instead of trying to change the string directly, create a new string with the desired modification\n",
        "data = data.replace('y', 'i')  # Replace 'y' with 'i'\n",
        "print(data)"
      ],
      "metadata": {
        "colab": {
          "base_uri": "https://localhost:8080/"
        },
        "id": "LgtB0TisiRYi",
        "outputId": "75050319-01f5-49f7-bb8d-cbaf3a937be1"
      },
      "execution_count": null,
      "outputs": [
        {
          "output_type": "stream",
          "name": "stdout",
          "text": [
            "Pithon\n"
          ]
        }
      ]
    },
    {
      "cell_type": "code",
      "source": [
        "data = data.replace('Py','Pi')\n",
        "print(data)\n"
      ],
      "metadata": {
        "colab": {
          "base_uri": "https://localhost:8080/"
        },
        "id": "H52WIY9Bg3Hk",
        "outputId": "a2634744-572e-473a-eb31-4774dffc066d"
      },
      "execution_count": null,
      "outputs": [
        {
          "output_type": "stream",
          "name": "stdout",
          "text": [
            "Pithon\n"
          ]
        }
      ]
    },
    {
      "cell_type": "markdown",
      "source": [
        "**STRING içerisinde arama :**"
      ],
      "metadata": {
        "id": "52oGtmp0i9rs"
      }
    },
    {
      "cell_type": "code",
      "source": [
        "text = 'www.clarusway.com'\n",
        "print(text.startswith('http:'))\n",
        "print(text.endswith('.com'))"
      ],
      "metadata": {
        "colab": {
          "base_uri": "https://localhost:8080/"
        },
        "id": "4CP1ZIRfilPJ",
        "outputId": "290acee5-5979-44ee-a0ee-158da67d46e0"
      },
      "execution_count": null,
      "outputs": [
        {
          "output_type": "stream",
          "name": "stdout",
          "text": [
            "False\n",
            "True\n"
          ]
        }
      ]
    },
    {
      "cell_type": "code",
      "source": [
        "mail = \"abigailadams@examplepetstore.com is my e-mail address\"\n",
        "print(mail.startswith(\"@\", 9))  # 9.indisten itibaren bakıyor. 9. indis '@' simgesi ile mi başlıyoru sorguluyor.\n",
        "print(mail.endswith(\"-\", 10, 32)) # 10-32. indisle bu aralıkta (-) ile mi başlıyor."
      ],
      "metadata": {
        "colab": {
          "base_uri": "https://localhost:8080/"
        },
        "id": "qs9V5BGpk21y",
        "outputId": "5238be89-6e00-47a9-f61b-069eea6e64be"
      },
      "execution_count": null,
      "outputs": [
        {
          "output_type": "stream",
          "name": "stdout",
          "text": [
            "False\n",
            "False\n"
          ]
        }
      ]
    },
    {
      "cell_type": "code",
      "source": [
        "# Bir kurumsal email adresinin geçerli olup olmadığını test etmek için.\n",
        "mail = 'suemeyye@gmail.com'\n",
        "print(mail.endswith('gmail.com'))"
      ],
      "metadata": {
        "colab": {
          "base_uri": "https://localhost:8080/"
        },
        "id": "KLCwnCKjlsAB",
        "outputId": "fbb6e781-3247-49cb-926c-6c0a85870e0a"
      },
      "execution_count": null,
      "outputs": [
        {
          "output_type": "stream",
          "name": "stdout",
          "text": [
            "True\n"
          ]
        }
      ]
    },
    {
      "cell_type": "code",
      "source": [
        "mail = 'suemeyye@gmail.com'\n",
        "print(mail.startswith('suemeyye',0,10))"
      ],
      "metadata": {
        "colab": {
          "base_uri": "https://localhost:8080/"
        },
        "id": "3YZ_k8VRmDsw",
        "outputId": "80039454-21ac-43eb-b869-4d6f72fe7d17"
      },
      "execution_count": null,
      "outputs": [
        {
          "output_type": "stream",
          "name": "stdout",
          "text": [
            "True\n"
          ]
        }
      ]
    },
    {
      "cell_type": "code",
      "source": [
        "# Mail in içinde 'suemeyye@' geçiyor mu.\n",
        "mail = 'suemeyye@gmail.com'\n",
        "print('suemeyye@'in mail)"
      ],
      "metadata": {
        "colab": {
          "base_uri": "https://localhost:8080/"
        },
        "id": "xbHiKJT_m83G",
        "outputId": "2bda99e9-dde7-4310-f92f-67b709567450"
      },
      "execution_count": null,
      "outputs": [
        {
          "output_type": "stream",
          "name": "stdout",
          "text": [
            "True\n"
          ]
        }
      ]
    },
    {
      "cell_type": "code",
      "source": [
        "# Genel email adresinin geçerli olup olmadığını nasıl tespit ederiz.\n",
        "mail = input('Mail adresiniz..:')\n",
        "print(('@'and '.') in mail and 'Geçerli' or 'Geçersiz')"
      ],
      "metadata": {
        "colab": {
          "base_uri": "https://localhost:8080/"
        },
        "id": "l_kEjHs0pYv2",
        "outputId": "fffe6c8c-d64c-4084-b503-672dc19647b8"
      },
      "execution_count": null,
      "outputs": [
        {
          "output_type": "stream",
          "name": "stdout",
          "text": [
            "Mail adresiniz..:suemeyye@gmail.com\n",
            "Geçerli\n"
          ]
        }
      ]
    },
    {
      "cell_type": "code",
      "source": [
        "# if-else ile.\n",
        "mail = input('Mail adresiniz..:')\n",
        "if ('@'and '.') in mail:\n",
        "    print('Geçerli')\n",
        "else:\n",
        "    print('Geçersiz')"
      ],
      "metadata": {
        "id": "VPK7PAv_qY5T"
      },
      "execution_count": null,
      "outputs": []
    },
    {
      "cell_type": "code",
      "source": [
        "True and 'Geçerli'or 'Geçersiz'"
      ],
      "metadata": {
        "colab": {
          "base_uri": "https://localhost:8080/",
          "height": 35
        },
        "id": "NJrAQovRrocS",
        "outputId": "7e81bef1-0346-485c-a544-931e5d5cbc86"
      },
      "execution_count": null,
      "outputs": [
        {
          "output_type": "execute_result",
          "data": {
            "text/plain": [
              "'Geçerli'"
            ],
            "application/vnd.google.colaboratory.intrinsic+json": {
              "type": "string"
            }
          },
          "metadata": {},
          "execution_count": 23
        }
      ]
    },
    {
      "cell_type": "code",
      "source": [
        "False and 'Geçerli'or 'Geçersiz'"
      ],
      "metadata": {
        "colab": {
          "base_uri": "https://localhost:8080/",
          "height": 35
        },
        "id": "aihYJJ5XsvU0",
        "outputId": "f8df6be7-11cf-43d9-d12b-5350f0d3829a"
      },
      "execution_count": null,
      "outputs": [
        {
          "output_type": "execute_result",
          "data": {
            "text/plain": [
              "'Geçersiz'"
            ],
            "application/vnd.google.colaboratory.intrinsic+json": {
              "type": "string"
            }
          },
          "metadata": {},
          "execution_count": 24
        }
      ]
    },
    {
      "cell_type": "code",
      "source": [
        "'a' in 'clarusway' # a var mı içinde mi ?"
      ],
      "metadata": {
        "colab": {
          "base_uri": "https://localhost:8080/"
        },
        "id": "_MR1gckAs0Ry",
        "outputId": "a8b94f58-4196-4826-b69f-4443e630950e"
      },
      "execution_count": null,
      "outputs": [
        {
          "output_type": "execute_result",
          "data": {
            "text/plain": [
              "True"
            ]
          },
          "metadata": {},
          "execution_count": 25
        }
      ]
    },
    {
      "cell_type": "code",
      "source": [
        "'x' not in 'clarusway' # c yok mu içinde ?"
      ],
      "metadata": {
        "colab": {
          "base_uri": "https://localhost:8080/"
        },
        "id": "XF4Zhs-4tBoa",
        "outputId": "d439dd42-cfdd-425a-a216-418b32e17505"
      },
      "execution_count": null,
      "outputs": [
        {
          "output_type": "execute_result",
          "data": {
            "text/plain": [
              "True"
            ]
          },
          "metadata": {},
          "execution_count": 27
        }
      ]
    },
    {
      "cell_type": "code",
      "source": [
        "'baba'.find('a') # a varsa indis nosunu döndürür.\n",
        "#str.find(sub[, start[, end]])"
      ],
      "metadata": {
        "colab": {
          "base_uri": "https://localhost:8080/"
        },
        "id": "kilPsKHIuksY",
        "outputId": "dba9d967-6507-4629-b508-1055f4b2bb8e"
      },
      "execution_count": null,
      "outputs": [
        {
          "output_type": "execute_result",
          "data": {
            "text/plain": [
              "1"
            ]
          },
          "metadata": {},
          "execution_count": 12
        }
      ]
    },
    {
      "cell_type": "code",
      "source": [
        "mail = 'suemeyye@gmail.com'\n",
        "print(mail.find('@')) # @ karakteri varsa indis numarasını döndürür."
      ],
      "metadata": {
        "colab": {
          "base_uri": "https://localhost:8080/"
        },
        "id": "CpAWxvujvevC",
        "outputId": "e006cd1b-bd6b-4909-a95e-56ae4155d382"
      },
      "execution_count": null,
      "outputs": [
        {
          "output_type": "stream",
          "name": "stdout",
          "text": [
            "8\n"
          ]
        }
      ]
    },
    {
      "cell_type": "code",
      "source": [
        "mail = 'suemeyye@gmail.com'\n",
        "print(mail.find('a')) # a karakteri varsa indis numarasını döndürür."
      ],
      "metadata": {
        "colab": {
          "base_uri": "https://localhost:8080/"
        },
        "id": "uVKra1iYvoOe",
        "outputId": "f3312761-3708-4f67-bc23-b048c0286fc3"
      },
      "execution_count": null,
      "outputs": [
        {
          "output_type": "stream",
          "name": "stdout",
          "text": [
            "11\n"
          ]
        }
      ]
    },
    {
      "cell_type": "code",
      "source": [
        "mail = 'suemeyye@gmail.com'\n",
        "print(mail.find('j')) # j harfi yoksa -1 döndürür."
      ],
      "metadata": {
        "colab": {
          "base_uri": "https://localhost:8080/"
        },
        "id": "a9Caazp5vuk5",
        "outputId": "ba4e5aac-3b4c-4e63-8db4-21d455b36792"
      },
      "execution_count": null,
      "outputs": [
        {
          "output_type": "stream",
          "name": "stdout",
          "text": [
            "-1\n"
          ]
        }
      ]
    },
    {
      "cell_type": "code",
      "source": [
        "\"baba\".rfind('a') # sağdan aramaya başlıyor ve indis değerini veriyor."
      ],
      "metadata": {
        "colab": {
          "base_uri": "https://localhost:8080/"
        },
        "id": "JkNPEQcEyI4O",
        "outputId": "bcd2e903-66b1-4d45-dc8c-74fa063e7934"
      },
      "execution_count": null,
      "outputs": [
        {
          "output_type": "execute_result",
          "data": {
            "text/plain": [
              "3"
            ]
          },
          "metadata": {},
          "execution_count": 16
        }
      ]
    },
    {
      "cell_type": "code",
      "source": [
        "'baba'.rindex('a') #sağdan arar varsa indisini yoksa -1 döndürür."
      ],
      "metadata": {
        "id": "jPH8l9Ji2g-H"
      },
      "execution_count": null,
      "outputs": []
    },
    {
      "cell_type": "code",
      "source": [
        "#Bir text içerisinde 'a'karakteri kaç kez geçmektedir.\n",
        "text = 'babadağlar'\n",
        "text.count('a')"
      ],
      "metadata": {
        "id": "hEjlDsdv3CCA"
      },
      "execution_count": null,
      "outputs": []
    },
    {
      "cell_type": "code",
      "source": [
        "cuemle = 'Ali ve Seda dün okula gelmedi ve neredeler bilmiyoruz'\n",
        "print('ve bağlaç sayısı.. :',cuemle.count('ve'))"
      ],
      "metadata": {
        "colab": {
          "base_uri": "https://localhost:8080/"
        },
        "id": "Wbk1omCp3VUu",
        "outputId": "e206b899-ad66-46f7-d058-f2e0e165692e"
      },
      "execution_count": 23,
      "outputs": [
        {
          "output_type": "stream",
          "name": "stdout",
          "text": [
            "ve bağlaç sayısı.. : 2\n"
          ]
        }
      ]
    },
    {
      "cell_type": "code",
      "source": [
        "#Bir cümledeki kelime sayısını hesaplama.\n",
        "cuemle = 'Ali ve Seda dün okula gelmedi ve neredeler bilmiyoruz'\n",
        "print('kelime sayısı.. :',cuemle.count(' ')+1)"
      ],
      "metadata": {
        "colab": {
          "base_uri": "https://localhost:8080/"
        },
        "id": "mKdV16Ro3yEF",
        "outputId": "86ac6c29-9a7c-4a2c-d581-c4cf4a472f81"
      },
      "execution_count": 24,
      "outputs": [
        {
          "output_type": "stream",
          "name": "stdout",
          "text": [
            "kelime sayısı.. : 9\n"
          ]
        }
      ]
    },
    {
      "cell_type": "code",
      "source": [
        "'1 2 3'.split() #stringi ayrıştırır listeye[] dönüştürür."
      ],
      "metadata": {
        "colab": {
          "base_uri": "https://localhost:8080/"
        },
        "id": "IYA6IFf6ybPS",
        "outputId": "5bbae47d-7a9b-472d-80f0-dfdee7069cb9"
      },
      "execution_count": null,
      "outputs": [
        {
          "output_type": "execute_result",
          "data": {
            "text/plain": [
              "['1', '2', '3']"
            ]
          },
          "metadata": {},
          "execution_count": 17
        }
      ]
    },
    {
      "cell_type": "code",
      "source": [
        "#tersi için\n",
        "' '.join(['1','2','3']) # boşluklara göre yapması için."
      ],
      "metadata": {
        "colab": {
          "base_uri": "https://localhost:8080/",
          "height": 35
        },
        "id": "2tp-SQmWyvDW",
        "outputId": "be905733-127d-42f8-a2f0-1fe701834656"
      },
      "execution_count": null,
      "outputs": [
        {
          "output_type": "execute_result",
          "data": {
            "text/plain": [
              "'1 2 3'"
            ],
            "application/vnd.google.colaboratory.intrinsic+json": {
              "type": "string"
            }
          },
          "metadata": {},
          "execution_count": 20
        }
      ]
    },
    {
      "cell_type": "code",
      "source": [
        "#virgüllere göre ayrıştırır.\n",
        "'1,2,3'.split(',')"
      ],
      "metadata": {
        "colab": {
          "base_uri": "https://localhost:8080/"
        },
        "id": "RzJYX69M0CM-",
        "outputId": "222cf158-c191-425d-b9bf-d625b5ff0c91"
      },
      "execution_count": null,
      "outputs": [
        {
          "output_type": "execute_result",
          "data": {
            "text/plain": [
              "['1', '2', '3']"
            ]
          },
          "metadata": {},
          "execution_count": 21
        }
      ]
    },
    {
      "cell_type": "code",
      "source": [
        "listem = '1 2 3'.split() #stringleri ayrıştırır ve listeye dönüştürür.\n",
        "print(listem)"
      ],
      "metadata": {
        "colab": {
          "base_uri": "https://localhost:8080/"
        },
        "id": "Aw2o5Dt70SPX",
        "outputId": "899c885c-1bb6-402b-906a-c70887e9a285"
      },
      "execution_count": null,
      "outputs": [
        {
          "output_type": "stream",
          "name": "stdout",
          "text": [
            "['1', '2', '3']\n"
          ]
        }
      ]
    },
    {
      "cell_type": "markdown",
      "source": [
        "**String üzerinde değişiklik :**"
      ],
      "metadata": {
        "id": "5zCmoa4Mu9qL"
      }
    },
    {
      "cell_type": "code",
      "source": [
        "sentence = 'I live and work in Virginia'\n",
        "print(sentence.upper()) # hepsini büyük harf yapar.\n",
        "print(sentence.lower()) # hepsini küçük harf yapar.\n",
        "print(sentence.swapcase()) # küçükler büyük, büyükler küçük olur (yer değiştirme).\n",
        "print(sentence) # sentence'nin orjinal halini yazdır."
      ],
      "metadata": {
        "colab": {
          "base_uri": "https://localhost:8080/"
        },
        "id": "bKDNzeJAvD47",
        "outputId": "94ee39c9-9e35-4fc4-8da7-f32879cb3bb6"
      },
      "execution_count": null,
      "outputs": [
        {
          "output_type": "stream",
          "name": "stdout",
          "text": [
            "I LIVE AND WORK IN VIRGINIA\n",
            "i live and work in virginia\n",
            "i LIVE AND WORK IN vIRGINIA\n",
            "I live and work in Virginia\n"
          ]
        }
      ]
    },
    {
      "cell_type": "code",
      "source": [
        "sentence = 'I live and work in Virginia'\n",
        "title_sentence = sentence.title() # Her kelimenin baş harfini büyük yapar.\n",
        "print(title_sentence)\n",
        "changed_sentece = sentence.replace('i','+') # i lerin yerine + işareti koyuyor.\n",
        "print(changed_sentece) # changed_sentence i leri + olarak gösteriyor.\n",
        "print(sentence) # sentence'nin orjinal hali."
      ],
      "metadata": {
        "colab": {
          "base_uri": "https://localhost:8080/"
        },
        "id": "7Qay4JcHwQud",
        "outputId": "94e88edc-aa3c-422a-c044-5d82038bcec4"
      },
      "execution_count": null,
      "outputs": [
        {
          "output_type": "stream",
          "name": "stdout",
          "text": [
            "I Live And Work In Virginia\n",
            "I l+ve and work +n V+rg+n+a\n",
            "I live and work in Virginia\n"
          ]
        }
      ]
    },
    {
      "cell_type": "code",
      "source": [
        "sentence = 'I live and work in Virginia'\n",
        "print(sentence.title()) #  Her kelimenin ilk harfini büyük diğerlerini küçük harfe dönüştürür.\n",
        "print(sentence.replace('i','+',3)) # ilk 3 'i' karakterini '+' ile yer değiştirir.\n",
        "print(sentence) # orjinal halini verir."
      ],
      "metadata": {
        "id": "w4NpyKbGyVZ9",
        "colab": {
          "base_uri": "https://localhost:8080/"
        },
        "outputId": "f1b3131c-3ae8-4921-9fc1-ec5d8717f693"
      },
      "execution_count": null,
      "outputs": [
        {
          "output_type": "stream",
          "name": "stdout",
          "text": [
            "I Live And Work In Virginia\n",
            "I l+ve and work +n V+rginia\n",
            "I live and work in Virginia\n"
          ]
        }
      ]
    },
    {
      "cell_type": "code",
      "source": [
        "sentence.upper().lower().swapcase() # Methodlar ard arda yazılabilir. Soldan-sağa doğru sıralı bir şekilde gider.Kalıcı bir değişiklik yapmaz print gibi."
      ],
      "metadata": {
        "colab": {
          "base_uri": "https://localhost:8080/",
          "height": 35
        },
        "id": "v41USyxwxbMs",
        "outputId": "6e9979e3-a508-4a2e-d380-b965b7174a58"
      },
      "execution_count": null,
      "outputs": [
        {
          "output_type": "execute_result",
          "data": {
            "text/plain": [
              "'I LIVE AND WORK IN VIRGINIA'"
            ],
            "application/vnd.google.colaboratory.intrinsic+json": {
              "type": "string"
            }
          },
          "metadata": {},
          "execution_count": 29
        }
      ]
    },
    {
      "cell_type": "code",
      "source": [
        "sentence.capitalize().swapcase()"
      ],
      "metadata": {
        "colab": {
          "base_uri": "https://localhost:8080/",
          "height": 35
        },
        "id": "6msLKeF_x2Qg",
        "outputId": "1aac6747-dca6-4d19-815c-61c264a50c65"
      },
      "execution_count": null,
      "outputs": [
        {
          "output_type": "execute_result",
          "data": {
            "text/plain": [
              "'i LIVE AND WORK IN VIRGINIA'"
            ],
            "application/vnd.google.colaboratory.intrinsic+json": {
              "type": "string"
            }
          },
          "metadata": {},
          "execution_count": 32
        }
      ]
    },
    {
      "cell_type": "code",
      "source": [
        "text = 'the better the family, the better the society'\n",
        "print(text.title()) # Her kelimenin ilk harfini büyük harfe dönüştürür.\n",
        "print(text.capitalize()) # cümlenin ilk harfini büyük harfe dönüştürür."
      ],
      "metadata": {
        "id": "GMm3dyt7yQI5",
        "colab": {
          "base_uri": "https://localhost:8080/"
        },
        "outputId": "3d598d84-43b8-49c8-b009-1c93ee1ffb91"
      },
      "execution_count": null,
      "outputs": [
        {
          "output_type": "stream",
          "name": "stdout",
          "text": [
            "The Better The Family, The Better The Society\n",
            "The better the family, the better the society\n"
          ]
        }
      ]
    },
    {
      "cell_type": "code",
      "source": [
        "'STRAße'.lower() #harfleri küçüğe dönüştürüyor."
      ],
      "metadata": {
        "colab": {
          "base_uri": "https://localhost:8080/",
          "height": 35
        },
        "id": "Zuh5k6mh1ZDY",
        "outputId": "2d89980f-78df-4c6b-e729-2fc7a3db8b49"
      },
      "execution_count": null,
      "outputs": [
        {
          "output_type": "execute_result",
          "data": {
            "text/plain": [
              "'straße'"
            ],
            "application/vnd.google.colaboratory.intrinsic+json": {
              "type": "string"
            }
          },
          "metadata": {},
          "execution_count": 37
        }
      ]
    },
    {
      "cell_type": "code",
      "source": [
        "'STRAße'.casefold() #almanca harfini ss e dönüştürüyor yani küçük harfe dönüştüyor özellikle alman alfabesindeki harfi dönüştürür."
      ],
      "metadata": {
        "colab": {
          "base_uri": "https://localhost:8080/",
          "height": 35
        },
        "id": "iLjfKUyD1v3o",
        "outputId": "a146616e-d219-4f93-8e4b-1da842ae2421"
      },
      "execution_count": null,
      "outputs": [
        {
          "output_type": "execute_result",
          "data": {
            "text/plain": [
              "'strasse'"
            ],
            "application/vnd.google.colaboratory.intrinsic+json": {
              "type": "string"
            }
          },
          "metadata": {},
          "execution_count": 38
        }
      ]
    },
    {
      "cell_type": "code",
      "source": [
        "sentence = 'I live and work in Virginia'\n",
        "swap_case = sentence.swapcase() #swap_case değişkenine sentence.swapcase yi atıyoruz ve kalıcı bir değişiklik olur.Orjinali korumak için kalıcı değişkenlikleri başka bir değişkene atayın.\n",
        "print(swap_case) # swap_case ekrana yazılır.\n",
        "print(swap_case.capitalize()) # swap_case nin ilk harfini büyük yaptık.\n"
      ],
      "metadata": {
        "colab": {
          "base_uri": "https://localhost:8080/"
        },
        "id": "6ropEH6G2ksV",
        "outputId": "21c5ccf9-e0bb-44f1-c158-e01b581f4f7e"
      },
      "execution_count": null,
      "outputs": [
        {
          "output_type": "stream",
          "name": "stdout",
          "text": [
            "i LIVE AND WORK IN vIRGINIA\n",
            "I live and work in virginia\n"
          ]
        }
      ]
    },
    {
      "cell_type": "code",
      "source": [
        "text = 'S0d0me and G0d0m' # Buradaki 0 ları  o ile değiştirmek için.\n",
        "text = text.replace('0','o') # 0 lar o ya dönüşür.\n",
        "print(text)"
      ],
      "metadata": {
        "id": "89ZUDm7K3yWG"
      },
      "execution_count": null,
      "outputs": []
    },
    {
      "cell_type": "code",
      "source": [
        "'Bochum'.replace('B','b') #büyük B küçük b olur."
      ],
      "metadata": {
        "colab": {
          "base_uri": "https://localhost:8080/",
          "height": 35
        },
        "id": "vaLezlfw39aH",
        "outputId": "f0929c0f-afa7-4802-ac46-cee2f8f7d25a"
      },
      "execution_count": null,
      "outputs": [
        {
          "output_type": "execute_result",
          "data": {
            "text/plain": [
              "'bochum'"
            ],
            "application/vnd.google.colaboratory.intrinsic+json": {
              "type": "string"
            }
          },
          "metadata": {},
          "execution_count": 40
        }
      ]
    },
    {
      "cell_type": "code",
      "source": [
        "'Galatasaray'.replace('a','e') # a lar e olur."
      ],
      "metadata": {
        "colab": {
          "base_uri": "https://localhost:8080/",
          "height": 35
        },
        "id": "XCRuFScD4IvS",
        "outputId": "dd4625fb-f737-412a-b471-46589c4e70a9"
      },
      "execution_count": null,
      "outputs": [
        {
          "output_type": "execute_result",
          "data": {
            "text/plain": [
              "'Geleteserey'"
            ],
            "application/vnd.google.colaboratory.intrinsic+json": {
              "type": "string"
            }
          },
          "metadata": {},
          "execution_count": 41
        }
      ]
    },
    {
      "cell_type": "code",
      "source": [
        "text = 'In God Weee Trust' # fazladan olan e yi nasıl düzeltiriz.\n",
        "new_text = text.replace('ee','e') # yeni text olarak ee yi e ile değiştirir.\n",
        "print(new_text) #istenilen çıktı."
      ],
      "metadata": {
        "colab": {
          "base_uri": "https://localhost:8080/"
        },
        "id": "nJoK_9i44eOJ",
        "outputId": "1cac8e21-1936-4bb5-fbd0-2ed4d37b9f84"
      },
      "execution_count": null,
      "outputs": [
        {
          "output_type": "stream",
          "name": "stdout",
          "text": [
            "In God Wee Trust\n"
          ]
        }
      ]
    },
    {
      "cell_type": "code",
      "source": [
        "text = 'In God Wee Trust'\n",
        "new_text = text[:9] + text[10:] #9. indisten öncesini al sonra 10. indisten sonrasını al ve birleştir ve yeni text oluştur yine bir tane e kalır. replace kullanmadanda çözümü böyle olur.\n",
        "print(new_text)"
      ],
      "metadata": {
        "colab": {
          "base_uri": "https://localhost:8080/"
        },
        "id": "L2LcjWOwtO0m",
        "outputId": "e435bdf9-793d-4c0f-f7b3-cc98483c8cb6"
      },
      "execution_count": null,
      "outputs": [
        {
          "output_type": "stream",
          "name": "stdout",
          "text": [
            "In God We Trust\n"
          ]
        }
      ]
    },
    {
      "cell_type": "code",
      "source": [],
      "metadata": {
        "id": "uuV2aenguIWe"
      },
      "execution_count": null,
      "outputs": []
    },
    {
      "cell_type": "markdown",
      "source": [
        "**Editing a String : Değişiklik**"
      ],
      "metadata": {
        "id": "TNG5_AbG6HJ3"
      }
    },
    {
      "cell_type": "code",
      "source": [
        "#str.removeprefix(prefix,/)\n",
        "#str.removesuffix(suffix,/)\n",
        "#str.rstrip([chars])\n",
        "#str.lstrip([chars])\n",
        "#str.strip([chars])"
      ],
      "metadata": {
        "id": "29QCus4t6Tjg"
      },
      "execution_count": null,
      "outputs": []
    },
    {
      "cell_type": "code",
      "source": [
        "space_string = \"      listen first      \"\n",
        "space_string.strip() # Tırnak içerisindeki boşlukları kaldırır sağlı-sollu."
      ],
      "metadata": {
        "colab": {
          "base_uri": "https://localhost:8080/",
          "height": 35
        },
        "id": "W3y7lc7K7Byj",
        "outputId": "29bada0b-a04e-4df6-9e0c-6bbd9d1e8018"
      },
      "execution_count": null,
      "outputs": [
        {
          "output_type": "execute_result",
          "data": {
            "text/plain": [
              "'listen first'"
            ],
            "application/vnd.google.colaboratory.intrinsic+json": {
              "type": "string"
            }
          },
          "metadata": {},
          "execution_count": 44
        }
      ]
    },
    {
      "cell_type": "code",
      "source": [
        "space_string = \"      listen first      \"\n",
        "space_string.lstrip() #Soldaki boşlukarı kaldırmak için."
      ],
      "metadata": {
        "colab": {
          "base_uri": "https://localhost:8080/",
          "height": 35
        },
        "id": "O_Vsy49y7TLe",
        "outputId": "be22cd62-64c0-4ae8-9226-ea99b6e63619"
      },
      "execution_count": null,
      "outputs": [
        {
          "output_type": "execute_result",
          "data": {
            "text/plain": [
              "'listen first      '"
            ],
            "application/vnd.google.colaboratory.intrinsic+json": {
              "type": "string"
            }
          },
          "metadata": {},
          "execution_count": 45
        }
      ]
    },
    {
      "cell_type": "code",
      "source": [
        "space_string = \"      listen first      \"\n",
        "space_string.rstrip() #sağdaki boşlukları kaldırmak için."
      ],
      "metadata": {
        "colab": {
          "base_uri": "https://localhost:8080/",
          "height": 35
        },
        "id": "ggG-Viaj7qr3",
        "outputId": "22b2f79b-20ff-4238-b308-6ae6a317d547"
      },
      "execution_count": null,
      "outputs": [
        {
          "output_type": "execute_result",
          "data": {
            "text/plain": [
              "'      listen first'"
            ],
            "application/vnd.google.colaboratory.intrinsic+json": {
              "type": "string"
            }
          },
          "metadata": {},
          "execution_count": 46
        }
      ]
    },
    {
      "cell_type": "code",
      "source": [
        "source_string = \"interoperability\"\n",
        "print(source_string.rstrip(\"yt\")) # sağdan yt i kaldır.\n",
        "print(source_string.lstrip(\"in\")) # soldan in i kaldır.\n",
        "print(source_string.strip(\"yi\")) # en baştaki i yi ve en sondaki y i kaldırır."
      ],
      "metadata": {
        "colab": {
          "base_uri": "https://localhost:8080/"
        },
        "id": "uBkAoSrW7_Kp",
        "outputId": "3943e4b5-8fe7-423e-8f65-db5ca2fecef6"
      },
      "execution_count": null,
      "outputs": [
        {
          "output_type": "stream",
          "name": "stdout",
          "text": [
            "interoperabili\n",
            "teroperability\n",
            "nteroperabilit\n"
          ]
        }
      ]
    },
    {
      "cell_type": "code",
      "source": [
        "'Monty Python'.strip() # boşluğa göre ayırır."
      ],
      "metadata": {
        "id": "SaJyn2XS8c-_"
      },
      "execution_count": null,
      "outputs": []
    },
    {
      "cell_type": "code",
      "source": [
        "'Monty Python'.rstrip(' Python') #"
      ],
      "metadata": {
        "id": "nL1r_OtPpT3A"
      },
      "execution_count": null,
      "outputs": []
    },
    {
      "cell_type": "code",
      "source": [
        "'Monty Python'.removesuffix(' Python') # sadece bu kalıbı kaldırır, kombinasyonları kaldırmaz.\n"
      ],
      "metadata": {
        "id": "2zUAOXwSpXsp"
      },
      "execution_count": null,
      "outputs": []
    },
    {
      "cell_type": "code",
      "source": [
        "'TestHookTest'.removeprefix('Test')"
      ],
      "metadata": {
        "id": "BASvVO-ip8yc"
      },
      "execution_count": null,
      "outputs": []
    },
    {
      "cell_type": "code",
      "source": [
        "'TestHookTest'.removesuffix('Test')"
      ],
      "metadata": {
        "id": "yOwBSvs2qP5L"
      },
      "execution_count": null,
      "outputs": []
    },
    {
      "cell_type": "code",
      "source": [
        "'TestHookTest'.lstrip('Text')"
      ],
      "metadata": {
        "id": "gad_vdPTqS96"
      },
      "execution_count": null,
      "outputs": []
    },
    {
      "cell_type": "code",
      "source": [
        "text = 'tyou can learn almost everything in pre-classz'\n",
        "temiz_text = text.strip(\"tz\").upper() #t-z yi kaldır.\n",
        "print(temiz_text)"
      ],
      "metadata": {
        "colab": {
          "base_uri": "https://localhost:8080/"
        },
        "id": "_s63NQ5prvI1",
        "outputId": "2d145b72-96e5-4c48-efa6-51b9bd6cc0dc"
      },
      "execution_count": null,
      "outputs": [
        {
          "output_type": "stream",
          "name": "stdout",
          "text": [
            "YOU CAN LEARN ALMOST EVERYTHING IN PRE-CLASS\n"
          ]
        }
      ]
    },
    {
      "cell_type": "code",
      "source": [
        "text = 'tyou can learn almost everything in pre-classz'\n",
        "temiz_text = text.rstrip('z').lstrip('t').upper() #z ve t yi kaldır.\n",
        "print(temiz_text)"
      ],
      "metadata": {
        "colab": {
          "base_uri": "https://localhost:8080/"
        },
        "id": "bRZlEqXdsgqz",
        "outputId": "abdfdc2f-c9a6-4ba0-adeb-b8222d2c7579"
      },
      "execution_count": null,
      "outputs": [
        {
          "output_type": "stream",
          "name": "stdout",
          "text": [
            "YOU CAN LEARN ALMOST EVERYTHING IN PRE-CLASS\n"
          ]
        }
      ]
    }
  ]
}